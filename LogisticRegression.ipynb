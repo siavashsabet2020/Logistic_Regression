{
 "metadata": {
  "kernelspec": {
   "display_name": "Python 3",
   "language": "python",
   "name": "python3"
  },
  "language_info": {
   "name": "python",
   "version": "3.10.13",
   "mimetype": "text/x-python",
   "codemirror_mode": {
    "name": "ipython",
    "version": 3
   },
   "pygments_lexer": "ipython3",
   "nbconvert_exporter": "python",
   "file_extension": ".py"
  },
  "kaggle": {
   "accelerator": "none",
   "dataSources": [
    {
     "sourceId": 8637833,
     "sourceType": "datasetVersion",
     "datasetId": 5172733
    }
   ],
   "dockerImageVersionId": 30732,
   "isInternetEnabled": true,
   "language": "python",
   "sourceType": "notebook",
   "isGpuEnabled": false
  }
 },
 "nbformat_minor": 5,
 "nbformat": 4,
 "cells": [
  {
   "cell_type": "markdown",
   "source": "# Importing Libraries",
   "metadata": {},
   "id": "40b8bd9698d6ee21"
  },
  {
   "cell_type": "code",
   "source": "import numpy as np\nimport pandas as pd\nimport matplotlib.pyplot as plt",
   "metadata": {
    "execution": {
     "iopub.status.busy": "2024-06-08T08:08:02.144499Z",
     "iopub.execute_input": "2024-06-08T08:08:02.144942Z",
     "iopub.status.idle": "2024-06-08T08:08:02.622078Z",
     "shell.execute_reply.started": "2024-06-08T08:08:02.144906Z",
     "shell.execute_reply": "2024-06-08T08:08:02.620873Z"
    },
    "trusted": true,
    "ExecuteTime": {
     "end_time": "2024-06-09T17:26:22.774910Z",
     "start_time": "2024-06-09T17:26:21.228494Z"
    }
   },
   "id": "f04ed9d0bdcc163d",
   "outputs": [],
   "execution_count": 1
  },
  {
   "cell_type": "markdown",
   "source": "# Defining Functions\nCompute Cost & Cost Function,\nGradient Descent Function with default alpha ( Learning Rate ) & iterations ( epochs ),\nPredict and Accuracy Function\nAnd Sigmoid Activation Function.\n",
   "metadata": {},
   "id": "c457ac15f7a73c00"
  },
  {
   "cell_type": "code",
   "source": [
    "def cost_function(theta, X, y):\n",
    "    m = len(y)\n",
    "    h = sigmoid(X.dot(theta))\n",
    "    cost = -1/m * (y.T.dot(np.log(h)) + (1 - y).T.dot(np.log(1 - h)))\n",
    "    return cost.item()"
   ],
   "metadata": {
    "execution": {
     "iopub.status.busy": "2024-06-08T08:08:03.986156Z",
     "iopub.execute_input": "2024-06-08T08:08:03.986759Z",
     "iopub.status.idle": "2024-06-08T08:08:03.995692Z",
     "shell.execute_reply.started": "2024-06-08T08:08:03.986722Z",
     "shell.execute_reply": "2024-06-08T08:08:03.994256Z"
    },
    "trusted": true,
    "ExecuteTime": {
     "end_time": "2024-06-09T17:26:22.785190Z",
     "start_time": "2024-06-09T17:26:22.778025Z"
    }
   },
   "id": "9951a65c011a03ec",
   "outputs": [],
   "execution_count": 2
  },
  {
   "cell_type": "code",
   "source": [
    "def gradient_descent(x, yA, yB, yC, alpha=0.001, iterations=1000):\n",
    "    m, n = x.shape\n",
    "    weights = np.zeros((n, 3))\n",
    "    costs = []\n",
    "\n",
    "    for i in range(iterations):\n",
    "        activations = sigmoid(x @ weights)\n",
    "        cost = (cost_function(weights[:, 0], x, yA) + \n",
    "                cost_function(weights[:, 1], x, yB) + \n",
    "                cost_function(weights[:, 2], x, yC)) / 3\n",
    "        if i % 100 == 0:\n",
    "            print(f\"Iteration {i}, Cost: {cost}\")\n",
    "            print(f\"Activations (first 5):\\n {activations[:5]}\")\n",
    "            print(f\"Weights (first 5):\\n {weights[:5]}\")\n",
    "        costs.append(cost)\n",
    "        gradients = (x.T @ (activations - np.column_stack((yA, yB, yC)))) / m\n",
    "        weights -= alpha * gradients\n",
    "    return weights, costs"
   ],
   "metadata": {
    "execution": {
     "iopub.status.busy": "2024-06-08T08:08:05.385838Z",
     "iopub.execute_input": "2024-06-08T08:08:05.386217Z",
     "iopub.status.idle": "2024-06-08T08:08:05.396665Z",
     "shell.execute_reply.started": "2024-06-08T08:08:05.386188Z",
     "shell.execute_reply": "2024-06-08T08:08:05.395022Z"
    },
    "trusted": true,
    "ExecuteTime": {
     "end_time": "2024-06-09T17:26:22.801893Z",
     "start_time": "2024-06-09T17:26:22.787273Z"
    }
   },
   "id": "a5f02d57a6ef1d3a",
   "outputs": [],
   "execution_count": 3
  },
  {
   "cell_type": "code",
   "source": [
    "def predict(x, ths):\n",
    "    q = np.dot(x, ths)\n",
    "    h = sigmoid(q)\n",
    "    return np.argmax(h, axis=1)\n",
    "\n",
    "def accuracy(pred, target):\n",
    "    index_to_label = {0: 'A', 1: 'B', 2: 'C'}\n",
    "    pred_labels = [index_to_label[p] for p in pred]\n",
    "    correct_predictions = sum(1 for p, t in zip(pred_labels, target) if p == t)\n",
    "    acc = (correct_predictions / len(target)) * 100\n",
    "    return acc"
   ],
   "metadata": {
    "execution": {
     "iopub.status.busy": "2024-06-08T08:08:05.792866Z",
     "iopub.execute_input": "2024-06-08T08:08:05.793302Z",
     "iopub.status.idle": "2024-06-08T08:08:05.803922Z",
     "shell.execute_reply.started": "2024-06-08T08:08:05.793261Z",
     "shell.execute_reply": "2024-06-08T08:08:05.801993Z"
    },
    "trusted": true,
    "ExecuteTime": {
     "end_time": "2024-06-09T17:26:22.813062Z",
     "start_time": "2024-06-09T17:26:22.804991Z"
    }
   },
   "id": "c88fdc68c5090b8c",
   "outputs": [],
   "execution_count": 4
  },
  {
   "cell_type": "code",
   "source": "def sigmoid(x):\n    return 1/(1+np.exp(-x))",
   "metadata": {
    "execution": {
     "iopub.status.busy": "2024-06-08T08:08:06.234678Z",
     "iopub.execute_input": "2024-06-08T08:08:06.235090Z",
     "iopub.status.idle": "2024-06-08T08:08:06.241425Z",
     "shell.execute_reply.started": "2024-06-08T08:08:06.235058Z",
     "shell.execute_reply": "2024-06-08T08:08:06.239977Z"
    },
    "trusted": true,
    "ExecuteTime": {
     "end_time": "2024-06-09T17:26:22.823295Z",
     "start_time": "2024-06-09T17:26:22.817074Z"
    }
   },
   "id": "a8cec88ff157dbbe",
   "outputs": [],
   "execution_count": 5
  },
  {
   "cell_type": "markdown",
   "source": "Reading The dataset using __Pandas__",
   "metadata": {},
   "id": "20824e47e83e33b5"
  },
  {
   "cell_type": "code",
   "source": [
    "data = pd.read_csv('LogisticRegressionDataset.csv')\n",
    "df = pd.DataFrame(data)\n",
    "df.head()"
   ],
   "metadata": {
    "execution": {
     "iopub.status.busy": "2024-06-08T08:08:09.294824Z",
     "iopub.execute_input": "2024-06-08T08:08:09.295649Z",
     "iopub.status.idle": "2024-06-08T08:08:09.372396Z",
     "shell.execute_reply.started": "2024-06-08T08:08:09.295597Z",
     "shell.execute_reply": "2024-06-08T08:08:09.371231Z"
    },
    "trusted": true,
    "ExecuteTime": {
     "end_time": "2024-06-09T17:26:22.872633Z",
     "start_time": "2024-06-09T17:26:22.826306Z"
    }
   },
   "id": "5b6ed74c9daf3fe4",
   "outputs": [
    {
     "data": {
      "text/plain": [
       "   14.23  1.71  2.43  15.6  127   2.8  3.06  0.28  2.29  5.64  ...  \\\n",
       "0  13.20  1.78  2.14  11.2  100  2.65  2.76  0.26  1.28  4.38  ...   \n",
       "1  13.16  2.36  2.67  18.6  101  2.80  3.24  0.30  2.81  5.68  ...   \n",
       "2  14.37  1.95  2.50  16.8  113  3.85  3.49  0.24  2.18  7.80  ...   \n",
       "3  13.24  2.59  2.87  21.0  118  2.80  2.69  0.39  1.82  4.32  ...   \n",
       "4  14.20  1.76  2.45  15.2  112  3.27  3.39  0.34  1.97  6.75  ...   \n",
       "\n",
       "   Unnamed: 22  Unnamed: 23  Unnamed: 24 Unnamed: 25  Unnamed: 26  \\\n",
       "0          NaN          NaN          NaN         NaN          NaN   \n",
       "1          NaN          NaN          NaN         NaN          NaN   \n",
       "2          NaN          NaN          NaN         NaN          NaN   \n",
       "3          NaN          NaN          NaN         NaN          NaN   \n",
       "4          NaN          NaN          NaN         NaN          NaN   \n",
       "\n",
       "   Unnamed: 27  Unnamed: 28  Unnamed: 29  Unnamed: 30  Unnamed: 31  \n",
       "0          NaN          NaN          NaN          NaN          NaN  \n",
       "1          NaN          NaN          NaN          NaN          NaN  \n",
       "2          NaN          NaN          NaN          NaN          NaN  \n",
       "3          NaN          NaN          NaN          NaN          NaN  \n",
       "4          NaN          NaN          NaN          NaN          NaN  \n",
       "\n",
       "[5 rows x 32 columns]"
      ],
      "text/html": [
       "<div>\n",
       "<style scoped>\n",
       "    .dataframe tbody tr th:only-of-type {\n",
       "        vertical-align: middle;\n",
       "    }\n",
       "\n",
       "    .dataframe tbody tr th {\n",
       "        vertical-align: top;\n",
       "    }\n",
       "\n",
       "    .dataframe thead th {\n",
       "        text-align: right;\n",
       "    }\n",
       "</style>\n",
       "<table border=\"1\" class=\"dataframe\">\n",
       "  <thead>\n",
       "    <tr style=\"text-align: right;\">\n",
       "      <th></th>\n",
       "      <th>14.23</th>\n",
       "      <th>1.71</th>\n",
       "      <th>2.43</th>\n",
       "      <th>15.6</th>\n",
       "      <th>127</th>\n",
       "      <th>2.8</th>\n",
       "      <th>3.06</th>\n",
       "      <th>0.28</th>\n",
       "      <th>2.29</th>\n",
       "      <th>5.64</th>\n",
       "      <th>...</th>\n",
       "      <th>Unnamed: 22</th>\n",
       "      <th>Unnamed: 23</th>\n",
       "      <th>Unnamed: 24</th>\n",
       "      <th>Unnamed: 25</th>\n",
       "      <th>Unnamed: 26</th>\n",
       "      <th>Unnamed: 27</th>\n",
       "      <th>Unnamed: 28</th>\n",
       "      <th>Unnamed: 29</th>\n",
       "      <th>Unnamed: 30</th>\n",
       "      <th>Unnamed: 31</th>\n",
       "    </tr>\n",
       "  </thead>\n",
       "  <tbody>\n",
       "    <tr>\n",
       "      <th>0</th>\n",
       "      <td>13.20</td>\n",
       "      <td>1.78</td>\n",
       "      <td>2.14</td>\n",
       "      <td>11.2</td>\n",
       "      <td>100</td>\n",
       "      <td>2.65</td>\n",
       "      <td>2.76</td>\n",
       "      <td>0.26</td>\n",
       "      <td>1.28</td>\n",
       "      <td>4.38</td>\n",
       "      <td>...</td>\n",
       "      <td>NaN</td>\n",
       "      <td>NaN</td>\n",
       "      <td>NaN</td>\n",
       "      <td>NaN</td>\n",
       "      <td>NaN</td>\n",
       "      <td>NaN</td>\n",
       "      <td>NaN</td>\n",
       "      <td>NaN</td>\n",
       "      <td>NaN</td>\n",
       "      <td>NaN</td>\n",
       "    </tr>\n",
       "    <tr>\n",
       "      <th>1</th>\n",
       "      <td>13.16</td>\n",
       "      <td>2.36</td>\n",
       "      <td>2.67</td>\n",
       "      <td>18.6</td>\n",
       "      <td>101</td>\n",
       "      <td>2.80</td>\n",
       "      <td>3.24</td>\n",
       "      <td>0.30</td>\n",
       "      <td>2.81</td>\n",
       "      <td>5.68</td>\n",
       "      <td>...</td>\n",
       "      <td>NaN</td>\n",
       "      <td>NaN</td>\n",
       "      <td>NaN</td>\n",
       "      <td>NaN</td>\n",
       "      <td>NaN</td>\n",
       "      <td>NaN</td>\n",
       "      <td>NaN</td>\n",
       "      <td>NaN</td>\n",
       "      <td>NaN</td>\n",
       "      <td>NaN</td>\n",
       "    </tr>\n",
       "    <tr>\n",
       "      <th>2</th>\n",
       "      <td>14.37</td>\n",
       "      <td>1.95</td>\n",
       "      <td>2.50</td>\n",
       "      <td>16.8</td>\n",
       "      <td>113</td>\n",
       "      <td>3.85</td>\n",
       "      <td>3.49</td>\n",
       "      <td>0.24</td>\n",
       "      <td>2.18</td>\n",
       "      <td>7.80</td>\n",
       "      <td>...</td>\n",
       "      <td>NaN</td>\n",
       "      <td>NaN</td>\n",
       "      <td>NaN</td>\n",
       "      <td>NaN</td>\n",
       "      <td>NaN</td>\n",
       "      <td>NaN</td>\n",
       "      <td>NaN</td>\n",
       "      <td>NaN</td>\n",
       "      <td>NaN</td>\n",
       "      <td>NaN</td>\n",
       "    </tr>\n",
       "    <tr>\n",
       "      <th>3</th>\n",
       "      <td>13.24</td>\n",
       "      <td>2.59</td>\n",
       "      <td>2.87</td>\n",
       "      <td>21.0</td>\n",
       "      <td>118</td>\n",
       "      <td>2.80</td>\n",
       "      <td>2.69</td>\n",
       "      <td>0.39</td>\n",
       "      <td>1.82</td>\n",
       "      <td>4.32</td>\n",
       "      <td>...</td>\n",
       "      <td>NaN</td>\n",
       "      <td>NaN</td>\n",
       "      <td>NaN</td>\n",
       "      <td>NaN</td>\n",
       "      <td>NaN</td>\n",
       "      <td>NaN</td>\n",
       "      <td>NaN</td>\n",
       "      <td>NaN</td>\n",
       "      <td>NaN</td>\n",
       "      <td>NaN</td>\n",
       "    </tr>\n",
       "    <tr>\n",
       "      <th>4</th>\n",
       "      <td>14.20</td>\n",
       "      <td>1.76</td>\n",
       "      <td>2.45</td>\n",
       "      <td>15.2</td>\n",
       "      <td>112</td>\n",
       "      <td>3.27</td>\n",
       "      <td>3.39</td>\n",
       "      <td>0.34</td>\n",
       "      <td>1.97</td>\n",
       "      <td>6.75</td>\n",
       "      <td>...</td>\n",
       "      <td>NaN</td>\n",
       "      <td>NaN</td>\n",
       "      <td>NaN</td>\n",
       "      <td>NaN</td>\n",
       "      <td>NaN</td>\n",
       "      <td>NaN</td>\n",
       "      <td>NaN</td>\n",
       "      <td>NaN</td>\n",
       "      <td>NaN</td>\n",
       "      <td>NaN</td>\n",
       "    </tr>\n",
       "  </tbody>\n",
       "</table>\n",
       "<p>5 rows × 32 columns</p>\n",
       "</div>"
      ]
     },
     "execution_count": 6,
     "metadata": {},
     "output_type": "execute_result"
    }
   ],
   "execution_count": 6
  },
  {
   "cell_type": "markdown",
   "source": "I'm __dropping the NaN__ ( Not a Number datas ) from my data set.",
   "metadata": {},
   "id": "119a16999aae8a1"
  },
  {
   "cell_type": "code",
   "source": "for i in range(14, 32):\n    if f'Unnamed: {i}' in df.columns:\n        df.drop([f'Unnamed: {i}'], axis=1, inplace=True)",
   "metadata": {
    "execution": {
     "iopub.status.busy": "2024-06-08T08:08:11.178670Z",
     "iopub.execute_input": "2024-06-08T08:08:11.179715Z",
     "iopub.status.idle": "2024-06-08T08:08:11.199906Z",
     "shell.execute_reply.started": "2024-06-08T08:08:11.179677Z",
     "shell.execute_reply": "2024-06-08T08:08:11.198374Z"
    },
    "trusted": true,
    "ExecuteTime": {
     "end_time": "2024-06-09T17:26:22.891979Z",
     "start_time": "2024-06-09T17:26:22.873642Z"
    }
   },
   "id": "62f76ed854b5885b",
   "outputs": [],
   "execution_count": 7
  },
  {
   "cell_type": "markdown",
   "source": "__I'm Selecting inputs and output ( datas and labels from my DataFrame )__\n",
   "metadata": {},
   "id": "99512338e3bd9851"
  },
  {
   "cell_type": "code",
   "source": "X = df.iloc[:, :-1].values\ny = df.iloc[:, -1].values",
   "metadata": {
    "execution": {
     "iopub.status.busy": "2024-06-08T08:08:12.962818Z",
     "iopub.execute_input": "2024-06-08T08:08:12.963211Z",
     "iopub.status.idle": "2024-06-08T08:08:12.972734Z",
     "shell.execute_reply.started": "2024-06-08T08:08:12.963182Z",
     "shell.execute_reply": "2024-06-08T08:08:12.970944Z"
    },
    "trusted": true,
    "ExecuteTime": {
     "end_time": "2024-06-09T17:26:22.899949Z",
     "start_time": "2024-06-09T17:26:22.893997Z"
    }
   },
   "id": "8e242c7ff23a19cd",
   "outputs": [],
   "execution_count": 8
  },
  {
   "cell_type": "markdown",
   "source": "__Converting labels to one-hot encoding__",
   "metadata": {},
   "id": "51cf6c082767c79b"
  },
  {
   "cell_type": "code",
   "source": "yA = (y == 'A').astype(int)\nyB = (y == 'B').astype(int)\nyC = (y == 'C').astype(int)",
   "metadata": {
    "execution": {
     "iopub.status.busy": "2024-06-08T08:08:14.976791Z",
     "iopub.execute_input": "2024-06-08T08:08:14.977210Z",
     "iopub.status.idle": "2024-06-08T08:08:14.983221Z",
     "shell.execute_reply.started": "2024-06-08T08:08:14.977180Z",
     "shell.execute_reply": "2024-06-08T08:08:14.981908Z"
    },
    "trusted": true,
    "ExecuteTime": {
     "end_time": "2024-06-09T17:26:22.907451Z",
     "start_time": "2024-06-09T17:26:22.901957Z"
    }
   },
   "id": "298fd6abecfc5eb1",
   "outputs": [],
   "execution_count": 9
  },
  {
   "cell_type": "markdown",
   "source": "# Bias\nAdding Bias Terms to Inputs (X)",
   "metadata": {},
   "id": "6b5af0366c9277a5"
  },
  {
   "cell_type": "code",
   "source": "X = np.hstack([np.ones((X.shape[0], 1)), X])",
   "metadata": {
    "execution": {
     "iopub.status.busy": "2024-06-08T08:08:17.111693Z",
     "iopub.execute_input": "2024-06-08T08:08:17.112067Z",
     "iopub.status.idle": "2024-06-08T08:08:17.118951Z",
     "shell.execute_reply.started": "2024-06-08T08:08:17.112041Z",
     "shell.execute_reply": "2024-06-08T08:08:17.117479Z"
    },
    "trusted": true,
    "ExecuteTime": {
     "end_time": "2024-06-09T17:26:22.914298Z",
     "start_time": "2024-06-09T17:26:22.909549Z"
    }
   },
   "id": "6c44ee3acbfa14fb",
   "outputs": [],
   "execution_count": 10
  },
  {
   "cell_type": "code",
   "source": "X",
   "metadata": {
    "execution": {
     "iopub.status.busy": "2024-06-08T08:08:24.264871Z",
     "iopub.execute_input": "2024-06-08T08:08:24.265290Z",
     "iopub.status.idle": "2024-06-08T08:08:24.276376Z",
     "shell.execute_reply.started": "2024-06-08T08:08:24.265259Z",
     "shell.execute_reply": "2024-06-08T08:08:24.274404Z"
    },
    "trusted": true,
    "ExecuteTime": {
     "end_time": "2024-06-09T17:26:22.922581Z",
     "start_time": "2024-06-09T17:26:22.916310Z"
    }
   },
   "id": "257285027161d5a4",
   "outputs": [
    {
     "data": {
      "text/plain": [
       "array([[1.000e+00, 1.320e+01, 1.780e+00, ..., 1.050e+00, 3.400e+00,\n",
       "        1.050e+03],\n",
       "       [1.000e+00, 1.316e+01, 2.360e+00, ..., 1.030e+00, 3.170e+00,\n",
       "        1.185e+03],\n",
       "       [1.000e+00, 1.437e+01, 1.950e+00, ..., 8.600e-01, 3.450e+00,\n",
       "        1.480e+03],\n",
       "       ...,\n",
       "       [1.000e+00, 1.327e+01, 4.280e+00, ..., 5.900e-01, 1.560e+00,\n",
       "        8.350e+02],\n",
       "       [1.000e+00, 1.317e+01, 2.590e+00, ..., 6.000e-01, 1.620e+00,\n",
       "        8.400e+02],\n",
       "       [1.000e+00, 1.413e+01, 4.100e+00, ..., 6.100e-01, 1.600e+00,\n",
       "        5.600e+02]])"
      ]
     },
     "execution_count": 11,
     "metadata": {},
     "output_type": "execute_result"
    }
   ],
   "execution_count": 11
  },
  {
   "cell_type": "markdown",
   "source": "# Shuffling Out data",
   "metadata": {},
   "id": "a3af0172398b86c2"
  },
  {
   "cell_type": "code",
   "source": [
    "data_len = len(df)\n",
    "per_list = np.random.permutation(data_len)\n",
    "X = X[per_list]\n",
    "y = y[per_list]\n",
    "yA = yA[per_list]\n",
    "yB = yB[per_list]\n",
    "yC = yC[per_list]"
   ],
   "metadata": {
    "execution": {
     "iopub.status.busy": "2024-06-08T08:08:30.957091Z",
     "iopub.execute_input": "2024-06-08T08:08:30.957511Z",
     "iopub.status.idle": "2024-06-08T08:08:30.965882Z",
     "shell.execute_reply.started": "2024-06-08T08:08:30.957477Z",
     "shell.execute_reply": "2024-06-08T08:08:30.964447Z"
    },
    "trusted": true,
    "ExecuteTime": {
     "end_time": "2024-06-09T17:26:22.930106Z",
     "start_time": "2024-06-09T17:26:22.924590Z"
    }
   },
   "id": "c9ff6da4620e4b27",
   "outputs": [],
   "execution_count": 12
  },
  {
   "cell_type": "markdown",
   "source": "# Train Test Split Manual Setup\n70% Training size , 30% Test size",
   "metadata": {},
   "id": "54837af31a8e11d6"
  },
  {
   "cell_type": "code",
   "source": [
    "trn_test_split = int(0.70 * len(X))\n",
    "\n",
    "X_train = X[:trn_test_split]\n",
    "\n",
    "Y_trainA = yA[:trn_test_split]\n",
    "Y_trainB = yB[:trn_test_split]\n",
    "Y_trainC = yC[:trn_test_split]\n",
    "\n",
    "X_val = X[trn_test_split:]\n",
    "\n",
    "Y_valA = yA[trn_test_split:]\n",
    "Y_valB = yB[trn_test_split:]\n",
    "Y_valC = yC[trn_test_split:]"
   ],
   "metadata": {
    "execution": {
     "iopub.status.busy": "2024-06-08T08:08:33.742260Z",
     "iopub.execute_input": "2024-06-08T08:08:33.742924Z",
     "iopub.status.idle": "2024-06-08T08:08:33.751295Z",
     "shell.execute_reply.started": "2024-06-08T08:08:33.742883Z",
     "shell.execute_reply": "2024-06-08T08:08:33.749948Z"
    },
    "trusted": true,
    "ExecuteTime": {
     "end_time": "2024-06-09T17:26:22.937665Z",
     "start_time": "2024-06-09T17:26:22.932115Z"
    }
   },
   "id": "dde6115f4748deae",
   "outputs": [],
   "execution_count": 13
  },
  {
   "cell_type": "markdown",
   "source": "# Data Normalization\nI Wrote epsilon to avoide devision by zero.",
   "metadata": {},
   "id": "333610f1f4564d62"
  },
  {
   "cell_type": "code",
   "source": "m = np.mean(X_train, axis=0)\nsigma = np.std(X_train, axis=0)\n\nepsilon = 1e-8\n\nX_train_normalized = (X_train - m) / (sigma + epsilon)\nX_val_normalized = (X_val - m) / (sigma + epsilon)",
   "metadata": {
    "execution": {
     "iopub.status.busy": "2024-06-08T08:08:35.085322Z",
     "iopub.execute_input": "2024-06-08T08:08:35.085782Z",
     "iopub.status.idle": "2024-06-08T08:08:35.093070Z",
     "shell.execute_reply.started": "2024-06-08T08:08:35.085747Z",
     "shell.execute_reply": "2024-06-08T08:08:35.091911Z"
    },
    "trusted": true,
    "ExecuteTime": {
     "end_time": "2024-06-09T17:26:22.949189Z",
     "start_time": "2024-06-09T17:26:22.943023Z"
    }
   },
   "id": "247e56a34adba5ce",
   "outputs": [],
   "execution_count": 14
  },
  {
   "cell_type": "markdown",
   "source": "Adding a __bias__ column to the __normalized features__",
   "metadata": {},
   "id": "f477296b7e453e46"
  },
  {
   "cell_type": "code",
   "source": [
    "X_train_normalized = np.hstack([np.ones((X_train_normalized.shape[0], 1)), X_train_normalized])\n",
    "X_val_normalized = np.hstack([np.ones((X_val_normalized.shape[0], 1)), X_val_normalized])"
   ],
   "metadata": {
    "execution": {
     "iopub.status.busy": "2024-06-08T08:08:42.367423Z",
     "iopub.execute_input": "2024-06-08T08:08:42.367864Z",
     "iopub.status.idle": "2024-06-08T08:08:42.374319Z",
     "shell.execute_reply.started": "2024-06-08T08:08:42.367831Z",
     "shell.execute_reply": "2024-06-08T08:08:42.373222Z"
    },
    "trusted": true,
    "ExecuteTime": {
     "end_time": "2024-06-09T17:26:22.957025Z",
     "start_time": "2024-06-09T17:26:22.951273Z"
    }
   },
   "id": "abd052d0aa07342c",
   "outputs": [],
   "execution_count": 15
  },
  {
   "metadata": {
    "ExecuteTime": {
     "end_time": "2024-06-09T17:26:22.972535Z",
     "start_time": "2024-06-09T17:26:22.959102Z"
    }
   },
   "cell_type": "code",
   "source": "X_val_normalized",
   "id": "59ff2af01555e63b",
   "outputs": [
    {
     "data": {
      "text/plain": [
       "array([[ 1.00000000e+00,  0.00000000e+00, -1.11864466e-01,\n",
       "         4.16290805e-01,  1.18481861e+00,  4.07384264e-01,\n",
       "        -2.10857415e-01, -1.27926595e+00, -1.63620703e+00,\n",
       "         1.25462878e+00, -1.59900464e+00, -1.97137935e-01,\n",
       "        -8.01556137e-01, -4.46770893e-01, -4.77564427e-01],\n",
       "       [ 1.00000000e+00,  0.00000000e+00, -1.49152622e+00,\n",
       "        -7.90835346e-01, -1.55031777e+00,  3.48363929e-01,\n",
       "        -9.45573053e-01, -5.85748237e-01, -5.28482179e-01,\n",
       "        -5.46154992e-01, -1.47921542e-01, -1.32822597e+00,\n",
       "        -1.52711182e-02,  1.01481649e+00, -8.18983999e-01],\n",
       "       [ 1.00000000e+00,  0.00000000e+00, -8.45198190e-01,\n",
       "         9.19882566e-02,  2.60265469e-01,  4.07384264e-01,\n",
       "        -6.39142872e-02,  3.28434201e-01, -1.49006594e-02,\n",
       "        -2.32975207e-01, -5.57201390e-01, -9.65424145e-01,\n",
       "        -6.70508634e-01,  1.08646293e+00, -1.00432605e+00],\n",
       "       [ 1.00000000e+00,  0.00000000e+00,  5.96610487e-01,\n",
       "        -4.84549606e-01,  8.38111184e-01,  1.12282589e-01,\n",
       "        -2.10857415e-01,  2.81148902e-01,  4.88610634e-01,\n",
       "        -7.02744885e-01,  9.39256414e-02, -6.58109661e-01,\n",
       "         7.27331399e-01,  1.71695161e+00,  3.19081242e-01],\n",
       "       [ 1.00000000e+00,  0.00000000e+00, -2.00113101e+00,\n",
       "        -1.44844885e+00,  4.14357660e-01,  4.07384264e-01,\n",
       "        -7.98629925e-01,  2.02340071e-01, -1.15602918e-01,\n",
       "         3.93384365e-01, -3.15354207e-01, -8.45912957e-01,\n",
       "         6.39966397e-01, -4.46770893e-01, -1.01733251e+00],\n",
       "       [ 1.00000000e+00,  0.00000000e+00,  1.45423806e+00,\n",
       "        -6.82734497e-01,  3.37311564e-01, -9.20573275e-01,\n",
       "         6.70801351e-01,  1.49480490e+00,  1.81788045e+00,\n",
       "        -3.89565100e-01,  4.65998231e-01,  1.55284732e+00,\n",
       "         1.20783891e+00,  2.84022800e-01,  3.03417974e+00],\n",
       "       [ 1.00000000e+00,  0.00000000e+00, -9.57062657e-01,\n",
       "         1.38019004e+00, -7.41333772e-01, -3.30369924e-01,\n",
       "         9.64687606e-01, -1.53145421e+00, -1.35424070e+00,\n",
       "        -6.24449939e-01, -8.73463090e-01,  1.34370274e+00,\n",
       "        -1.32574615e+00, -8.90978824e-01,  3.51597391e-01],\n",
       "       [ 1.00000000e+00,  0.00000000e+00, -1.05649774e+00,\n",
       "        -8.08852154e-01,  5.29926803e-01, -1.82819087e-01,\n",
       "         3.76915096e-01, -7.27604133e-01, -3.77428791e-01,\n",
       "         6.28269205e-01, -1.07810301e+00, -9.01400294e-01,\n",
       "         2.16885393e+00, -5.61405198e-01, -1.27421010e+00],\n",
       "       [ 1.00000000e+00,  0.00000000e+00, -5.22034176e-01,\n",
       "        -9.07944600e-01, -1.89702520e+00, -3.30369924e-01,\n",
       "        -7.98629925e-01, -1.42112184e+00, -7.70167600e-01,\n",
       "        -6.24449939e-01, -4.82786872e-01, -1.11481313e+00,\n",
       "         3.77871391e-01,  2.12376359e-01, -6.01125796e-01],\n",
       "       [ 1.00000000e+00,  0.00000000e+00,  9.07345116e-01,\n",
       "        -5.56616839e-01,  6.76502301e-02, -1.06812411e+00,\n",
       "        -7.25158361e-01,  3.91481266e-01,  6.39664023e-01,\n",
       "        -6.24449939e-01,  3.72980083e-01,  2.29687737e-01,\n",
       "         8.58378902e-01,  3.98657105e-01,  1.86359835e+00],\n",
       "       [ 1.00000000e+00,  0.00000000e+00, -1.93898408e+00,\n",
       "         1.25407239e+00, -2.20520958e+00, -3.52682490e-02,\n",
       "         5.97329787e-01,  1.30566370e+00,  4.58399957e-01,\n",
       "        -1.01592467e+00,  3.66582250e+00, -9.22741578e-01,\n",
       "        -8.88921139e-01,  2.69693512e-01, -6.01125796e-01],\n",
       "       [ 1.00000000e+00,  0.00000000e+00,  8.94915731e-01,\n",
       "        -6.10667264e-01, -5.48718533e-01, -9.50083443e-01,\n",
       "         1.40551699e+00,  3.91481266e-01,  7.80647185e-01,\n",
       "        -1.25080951e+00,  1.95111236e-02,  3.36394155e-01,\n",
       "        -1.46318621e-01,  8.28535748e-01,  1.01817846e+00],\n",
       "       [ 1.00000000e+00,  0.00000000e+00, -8.07910035e-01,\n",
       "        -1.26828076e+00, -3.97726978e+00, -2.66167316e+00,\n",
       "        -7.98629925e-01, -5.85748237e-01, -1.56571544e+00,\n",
       "        -7.02744885e-01, -2.21292441e+00, -1.32822597e+00,\n",
       "         4.21553892e-01, -1.14890601e+00, -7.37693625e-01],\n",
       "       [ 1.00000000e+00,  0.00000000e+00,  1.49152622e+00,\n",
       "        -5.83642052e-01, -3.56103295e-01, -9.79593610e-01,\n",
       "         1.40551699e+00,  1.33718724e+00,  8.81349444e-01,\n",
       "        -8.59334778e-01,  7.82259931e-01,  5.62611762e-01,\n",
       "        -5.89536193e-02,  9.86157917e-01,  7.25533113e-01],\n",
       "       [ 1.00000000e+00,  0.00000000e+00,  1.41694991e+00,\n",
       "         1.46038681e-01,  3.37311564e-01,  1.12282589e-01,\n",
       "        -5.78215234e-01, -1.05860122e+00, -1.43480251e+00,\n",
       "         5.49974258e-01, -6.87426796e-01,  1.97967299e+00,\n",
       "        -1.45679365e+00, -1.30652818e+00, -2.82467528e-01],\n",
       "       [ 1.00000000e+00,  0.00000000e+00,  9.19774501e-01,\n",
       "        -7.36784921e-01,  1.18481861e+00, -3.52682490e-02,\n",
       "         2.43411888e+00,  9.43143082e-01,  6.19523571e-01,\n",
       "         1.01974394e+00, -4.82786872e-01,  1.44322603e-01,\n",
       "         1.29520391e+00,  5.41949986e-01,  1.58721108e+00],\n",
       "       [ 1.00000000e+00,  0.00000000e+00,  6.96045568e-01,\n",
       "         2.09097510e-01,  1.14629557e+00,  1.44024013e+00,\n",
       "         4.50386659e-01, -1.26350418e+00, -1.29381935e+00,\n",
       "         1.58499526e-01, -1.29317912e-01,  1.53577429e+00,\n",
       "        -9.32603640e-01, -1.17756459e+00,  1.01778192e-02],\n",
       "       [ 1.00000000e+00,  0.00000000e+00, -1.70282577e+00,\n",
       "        -6.10667264e-01,  8.76634232e-01,  1.88289264e+00,\n",
       "        -7.98629925e-01, -6.80318834e-01, -5.18411953e-01,\n",
       "         2.36794472e-01, -5.01390501e-01, -1.05078928e+00,\n",
       "         1.77571142e+00,  8.42865036e-01, -6.01125796e-01],\n",
       "       [ 1.00000000e+00,  0.00000000e+00,  6.71186798e-01,\n",
       "        -5.56616839e-01,  2.60265469e-01,  2.59833426e-01,\n",
       "         1.25857386e+00,  9.58904848e-01,  6.59804474e-01,\n",
       "        -1.32910446e+00,  1.56361237e+00,  5.07124424e-01,\n",
       "         1.15776385e-01,  5.84937850e-01,  1.21327536e+00],\n",
       "       [ 1.00000000e+00,  0.00000000e+00,  6.09039872e-01,\n",
       "        -4.93558010e-01,  9.92203375e-01, -1.82819087e-01,\n",
       "         8.17744478e-01, -2.56288881e-03,  4.08048827e-01,\n",
       "        -6.24449939e-01, -1.29317912e-01, -3.67868204e-01,\n",
       "         6.39966397e-01,  3.55669240e-01,  1.13198498e+00],\n",
       "       [ 1.00000000e+00,  0.00000000e+00, -1.16836220e+00,\n",
       "        -9.16953004e-01, -3.56103295e-01,  1.17464862e+00,\n",
       "        -2.12111807e+00, -2.38989381e-01, -5.38552405e-01,\n",
       "         3.93384365e-01, -4.26975983e-01, -1.41785936e+00,\n",
       "         5.08918894e-01,  8.42865036e-01, -3.96274052e-01],\n",
       "       [ 1.00000000e+00,  0.00000000e+00, -9.57062657e-01,\n",
       "         2.13689599e+00,  5.68449850e-01,  4.07384264e-01,\n",
       "        -7.25158361e-01, -1.53145421e+00, -1.66641770e+00,\n",
       "         1.25462878e+00, -1.50598649e+00, -5.17257189e-01,\n",
       "        -8.88921139e-01, -1.93701686e+00, -8.73706300e-02],\n",
       "       [ 1.00000000e+00,  0.00000000e+00, -5.46892947e-01,\n",
       "        -9.52986620e-01, -1.12656425e+00,  1.12282589e-01,\n",
       "         3.03443532e-01, -1.37383655e+00, -1.55564522e+00,\n",
       "         1.25462878e+00, -3.89768724e-01,  1.08333908e+00,\n",
       "        -1.63152366e+00, -1.53579679e+00, -3.47499828e-01],\n",
       "       [ 1.00000000e+00,  0.00000000e+00,  3.72881555e-02,\n",
       "        -5.56616839e-01, -1.35770254e+00, -2.13049014e+00,\n",
       "        -5.04743670e-01,  5.80622460e-01,  1.15324554e+00,\n",
       "        -1.56398930e+00,  2.41937932e+00,  9.12608813e-01,\n",
       "         7.27331399e-01,  4.12986393e-01,  1.31082381e+00],\n",
       "       [ 1.00000000e+00,  0.00000000e+00, -3.10734629e-01,\n",
       "         9.74811859e-01, -1.58884082e+00, -1.06812411e+00,\n",
       "        -1.38640244e+00, -1.13741005e+00, -8.80940085e-01,\n",
       "         4.71679312e-01, -1.45017560e+00, -7.09328742e-01,\n",
       "        -1.10733364e+00, -7.19027367e-01, -1.21893264e+00],\n",
       "       [ 1.00000000e+00,  0.00000000e+00, -1.11864466e-01,\n",
       "         1.30812281e+00,  9.92203375e-01, -3.00859757e-01,\n",
       "         2.29971968e-01,  9.20077082e-02,  2.87206117e-01,\n",
       "        -9.37629725e-01,  6.89241784e-01, -2.39820502e-01,\n",
       "         3.34188890e-01,  1.28707297e+00,  7.52101187e-02],\n",
       "       [ 1.00000000e+00,  0.00000000e+00,  1.14350343e+00,\n",
       "        -5.56616839e-01, -4.71672438e-01, -6.54981767e-01,\n",
       "         6.70801351e-01,  8.32810718e-01,  1.42514164e+00,\n",
       "        -3.89565100e-01,  8.75278079e-01,  1.63821246e+00,\n",
       "         7.27331399e-01,  6.85242867e-01,  1.66850146e+00],\n",
       "       [ 1.00000000e+00,  0.00000000e+00, -2.11299548e-01,\n",
       "         8.30677394e-01,  7.22542041e-01,  7.02485939e-01,\n",
       "         5.23858223e-01, -1.10588652e+00, -1.53550477e+00,\n",
       "         1.80269340e+00, -1.20832842e+00,  2.21151224e-01,\n",
       "        -3.64731126e-01, -7.33356655e-01, -5.75112876e-01],\n",
       "       [ 1.00000000e+00,  0.00000000e+00, -9.57062657e-01,\n",
       "        -5.56616839e-01, -1.04951815e+00, -1.82819087e-01,\n",
       "        -1.38640244e+00, -1.10588652e+00, -9.54624665e-02,\n",
       "         1.90963284e-03,  3.81147530e-02, -7.09328742e-01,\n",
       "         2.03141387e-01,  7.85547883e-01, -7.70209774e-01],\n",
       "       [ 1.00000000e+00,  0.00000000e+00,  7.45763109e-01,\n",
       "         2.34408928e+00, -1.63488056e-01,  1.12282589e-01,\n",
       "        -5.04743670e-01, -5.54224705e-01, -1.33410025e+00,\n",
       "         7.84859098e-01, -1.09670664e+00, -2.82503070e-01,\n",
       "        -1.90001122e-01, -8.19332384e-01, -6.40145175e-01],\n",
       "       [ 1.00000000e+00,  0.00000000e+00, -1.00678020e+00,\n",
       "        -1.04307066e+00, -2.47487092e+00, -8.32042772e-01,\n",
       "         3.83007859e+00, -7.90651198e-01, -8.50729407e-01,\n",
       "        -1.79887414e+00,  1.65663052e+00, -9.44082862e-01,\n",
       "         1.42625142e+00,  6.42255002e-01, -9.38738599e-02],\n",
       "       [ 1.00000000e+00,  0.00000000e+00,  1.29265606e+00,\n",
       "        -6.46700880e-01, -4.33149390e-01, -1.06812411e+00,\n",
       "         1.99328950e+00,  1.02195191e+00,  1.05254328e+00,\n",
       "        -1.01592467e+00,  9.12485337e-01,  2.51029021e-01,\n",
       "         5.96283896e-01,  1.55932944e+00,  1.07726268e-01],\n",
       "       [ 1.00000000e+00,  0.00000000e+00, -1.74011392e-01,\n",
       "         5.78442078e-01,  2.91271824e-02,  1.12282589e-01,\n",
       "         3.76915096e-01, -1.65754834e+00, -9.11150763e-01,\n",
       "        -1.01592467e+00, -1.45017560e+00,  1.44322603e-01,\n",
       "        -9.32603640e-01, -1.72207753e+00, -7.05177475e-01],\n",
       "       [ 1.00000000e+00,  0.00000000e+00, -9.94350812e-01,\n",
       "        -9.52986620e-01, -1.74293301e+00, -1.82819087e-01,\n",
       "        -5.04743670e-01,  1.31988774e-02, -8.53922406e-02,\n",
       "         1.58499526e-01,  8.75278079e-01, -1.00810671e+00,\n",
       "        -4.08413627e-01,  5.70608562e-01, -1.41402954e+00],\n",
       "       [ 1.00000000e+00,  0.00000000e+00, -8.57627575e-01,\n",
       "        -1.22323874e+00, -1.70440996e+00, -1.42224612e+00,\n",
       "         2.72800514e+00, -7.11842367e-01, -2.76726532e-01,\n",
       "        -1.54680260e-01,  2.14032488e+00, -7.09328742e-01,\n",
       "         4.65236393e-01, -4.46770893e-01,  1.01778192e-02],\n",
       "       [ 1.00000000e+00,  0.00000000e+00, -1.86440777e-01,\n",
       "         2.03780354e+00,  3.37311564e-01,  5.54935102e-01,\n",
       "        -9.45573053e-01, -1.02707769e+00, -1.48515364e+00,\n",
       "         7.84859098e-01, -1.39436472e+00,  1.10468037e+00,\n",
       "        -1.80625366e+00, -1.09158886e+00, -3.96274052e-01],\n",
       "       [ 1.00000000e+00,  0.00000000e+00,  5.84181102e-01,\n",
       "         1.11894633e+00, -7.79856820e-01, -3.52682490e-02,\n",
       "        -7.98629925e-01, -1.15317182e+00, -1.65634748e+00,\n",
       "         1.64610351e+00, -1.35715746e+00,  2.72370304e-01,\n",
       "        -6.26826133e-01, -1.14890601e+00, -5.42596726e-01],\n",
       "       [ 1.00000000e+00,  0.00000000e+00, -2.23728933e-01,\n",
       "         5.51416866e-01,  8.38111184e-01,  1.29268929e+00,\n",
       "         1.56500404e-01, -4.98481873e-02, -1.53550477e+00,\n",
       "         1.25462878e+00, -1.48738286e+00, -6.05537200e-02,\n",
       "        -2.77366124e-01, -6.76039503e-01, -5.10080576e-01],\n",
       "       [ 1.00000000e+00,  0.00000000e+00, -3.97740325e-01,\n",
       "         1.08291271e+00, -1.24965008e-01,  5.54935102e-01,\n",
       "         5.23858223e-01, -1.02707769e+00, -9.31291214e-01,\n",
       "        -1.56398930e+00, -1.43157197e+00, -2.64076662e-02,\n",
       "        -7.57873636e-01, -1.90835828e+00, -4.77564427e-01],\n",
       "       [ 1.00000000e+00,  0.00000000e+00,  8.32768805e-01,\n",
       "         8.21668989e-01,  5.68449850e-01,  1.12282589e-01,\n",
       "         5.97329787e-01, -8.22174730e-01, -1.57578567e+00,\n",
       "         1.01974394e+00, -1.50598649e+00,  3.49198925e-01,\n",
       "         2.84113828e-02, -1.14890601e+00, -2.17435229e-01],\n",
       "       [ 1.00000000e+00,  0.00000000e+00, -1.74011392e+00,\n",
       "        -3.22398332e-01, -4.33149390e-01, -4.77920762e-01,\n",
       "        -6.39142872e-02,  1.05347544e+00,  1.36152729e-01,\n",
       "        -1.56398930e+00, -4.82786872e-01, -7.73352593e-01,\n",
       "         9.02061403e-01,  4.84632833e-01, -1.30672624e+00],\n",
       "       [ 1.00000000e+00,  0.00000000e+00,  5.96610487e-01,\n",
       "         6.95551332e-01,  8.76634232e-01,  1.29268929e+00,\n",
       "         1.77287481e+00, -1.49993068e+00, -5.58692857e-01,\n",
       "        -1.17251456e+00, -6.68823166e-01,  1.51016475e+00,\n",
       "        -1.58784115e+00, -1.89402899e+00, -8.02725924e-01],\n",
       "       [ 1.00000000e+00,  0.00000000e+00, -8.07910035e-01,\n",
       "        -6.46700880e-01, -3.56103295e-01,  1.44024013e+00,\n",
       "        -7.98629925e-01, -2.07465849e-01,  3.27487020e-01,\n",
       "         2.36794472e-01,  5.40412748e-01, -1.25566560e+00,\n",
       "        -2.77366124e-01,  2.26705648e-01, -1.31648109e+00],\n",
       "       [ 1.00000000e+00,  0.00000000e+00,  4.72316636e-01,\n",
       "         1.40721526e+00,  3.37311564e-01,  9.97587615e-01,\n",
       "         2.29971968e-01, -8.69460028e-01, -1.38445138e+00,\n",
       "         4.71679312e-01, -3.71165095e-01,  9.55291380e-01,\n",
       "        -1.10733364e+00, -1.52146750e+00,  1.01778192e-02],\n",
       "       [ 1.00000000e+00,  0.00000000e+00,  4.72316636e-01,\n",
       "         2.02879514e+00,  1.80118738e+00,  1.58779097e+00,\n",
       "         9.64687606e-01, -5.85748237e-01, -1.17297664e+00,\n",
       "        -7.81039832e-01, -9.29273979e-01,  1.46748219e+00,\n",
       "        -1.23838115e+00, -1.00561313e+00, -3.80015978e-01],\n",
       "       [ 1.00000000e+00,  0.00000000e+00,  1.70282577e+00,\n",
       "        -4.30499182e-01,  2.21742421e-01, -1.48126646e+00,\n",
       "        -2.10857415e-01,  2.33863604e-01,  3.97978602e-01,\n",
       "        -5.46154992e-01,  6.89241784e-01,  8.02987519e-02,\n",
       "         2.90506389e-01,  1.37304870e+00,  1.76604990e+00],\n",
       "       [ 1.00000000e+00,  0.00000000e+00, -4.35028480e-01,\n",
       "        -1.23224715e+00, -5.87241581e-01, -4.77920762e-01,\n",
       "         9.55727659e-03, -2.38989381e-01, -1.86094499e-01,\n",
       "        -5.46154992e-01, -2.78146948e-01, -1.04225277e+00,\n",
       "         1.20783891e+00,  7.71218595e-01, -9.65306673e-01],\n",
       "       [ 1.00000000e+00,  0.00000000e+00, -8.07910035e-01,\n",
       "        -1.06108747e+00, -1.81997911e+00, -5.75808147e-03,\n",
       "        -1.53334556e+00, -3.80845277e-01, -1.25673144e-01,\n",
       "        -7.81039832e-01, -1.05949938e+00, -1.62991881e-01,\n",
       "         7.27331399e-01,  1.22975581e+00, -7.70209774e-01],\n",
       "       [ 1.00000000e+00,  0.00000000e+00, -1.16836220e+00,\n",
       "        -2.41322695e-01, -2.66748616e+00, -6.25471600e-01,\n",
       "        -1.37385851e-01, -1.91704083e-01,  4.55206958e-02,\n",
       "        -8.59334778e-01, -3.89768724e-01, -7.52011309e-01,\n",
       "         1.38256891e+00,  4.84632833e-01, -1.19886780e-01],\n",
       "       [ 1.00000000e+00,  0.00000000e+00,  1.69039638e+00,\n",
       "        -4.30499182e-01, -4.79189130e-02, -2.24853081e+00,\n",
       "         2.29971968e-01,  1.49480490e+00,  1.52584390e+00,\n",
       "        -6.24449939e-01,  2.51239747e+00,  1.04065651e+00,\n",
       "         1.07679141e+00,  5.41949986e-01,  2.60171495e+00],\n",
       "       [ 1.00000000e+00,  0.00000000e+00,  3.10734629e-01,\n",
       "         1.74052621e+00, -5.10195486e-01,  1.12282589e-01,\n",
       "         1.55246012e+00, -1.20045712e+00, -1.44487273e+00,\n",
       "         4.71679312e-01, -4.82786872e-01,  2.19308583e+00,\n",
       "        -1.58784115e+00, -1.52146750e+00,  2.86565092e-01],\n",
       "       [ 1.00000000e+00,  0.00000000e+00,  1.34237360e+00,\n",
       "        -1.69255463e-01, -3.56103295e-01, -4.77920762e-01,\n",
       "         4.50386659e-01,  9.43143082e-01,  1.20359667e+00,\n",
       "        -1.17251456e+00,  1.43338696e+00,  2.93711588e-01,\n",
       "         1.29520391e+00,  7.85547883e-01,  2.48140520e+00],\n",
       "       [ 1.00000000e+00,  0.00000000e+00, -1.26779729e+00,\n",
       "        -1.28629757e+00, -1.51179473e+00, -1.82819087e-01,\n",
       "        -9.45573053e-01,  1.07769474e-01,  1.36152729e-01,\n",
       "        -5.46154992e-01, -3.33957836e-01, -1.09347185e+00,\n",
       "         1.86307643e+00,  7.13901443e-01, -1.52458445e+00],\n",
       "       [ 1.00000000e+00,  0.00000000e+00, -9.07345116e-01,\n",
       "        -6.64717689e-01, -7.02810724e-01,  2.30323259e-01,\n",
       "         3.03443532e-01, -1.97278366e+00, -1.11255528e+00,\n",
       "         1.90963284e-03, -2.78146948e-01, -8.58717727e-01,\n",
       "        -2.07474123e-01, -1.14890601e+00,  4.00371616e-01]])"
      ]
     },
     "execution_count": 16,
     "metadata": {},
     "output_type": "execute_result"
    }
   ],
   "execution_count": 16
  },
  {
   "cell_type": "markdown",
   "source": "# Printing Initial Data states",
   "metadata": {},
   "id": "317774cd7b749f53"
  },
  {
   "cell_type": "code",
   "source": "print(\"Shape of X_train:\", X_train.shape)\nprint(\"Shape of Y_trainA:\", Y_trainA.shape)\nprint(\"First 5 rows of X_train:\\n\", X_train[:5])\nprint(\"First 5 rows of Y_trainA:\\n\", Y_trainA[:5])\nprint(\"Initial Weights:\\n\", np.zeros((X_train_normalized.shape[1], 3)))",
   "metadata": {
    "execution": {
     "iopub.status.busy": "2024-06-08T08:08:44.735802Z",
     "iopub.execute_input": "2024-06-08T08:08:44.736230Z",
     "iopub.status.idle": "2024-06-08T08:08:44.748322Z",
     "shell.execute_reply.started": "2024-06-08T08:08:44.736195Z",
     "shell.execute_reply": "2024-06-08T08:08:44.746977Z"
    },
    "trusted": true,
    "ExecuteTime": {
     "end_time": "2024-06-09T17:26:22.984623Z",
     "start_time": "2024-06-09T17:26:22.975563Z"
    }
   },
   "id": "3c90f49b453f80cb",
   "outputs": [
    {
     "name": "stdout",
     "output_type": "stream",
     "text": [
      "Shape of X_train: (123, 14)\n",
      "Shape of Y_trainA: (123,)\n",
      "First 5 rows of X_train:\n",
      " [[1.000e+00 1.181e+01 2.120e+00 2.740e+00 2.150e+01 1.340e+02 1.600e+00\n",
      "  9.900e-01 1.400e-01 1.560e+00 2.500e+00 9.500e-01 2.260e+00 6.250e+02]\n",
      " [1.000e+00 1.339e+01 1.770e+00 2.620e+00 1.610e+01 9.300e+01 2.850e+00\n",
      "  2.940e+00 3.400e-01 1.450e+00 4.800e+00 9.200e-01 3.220e+00 1.195e+03]\n",
      " [1.000e+00 1.103e+01 1.510e+00 2.200e+00 2.150e+01 8.500e+01 2.460e+00\n",
      "  2.170e+00 5.200e-01 2.010e+00 1.900e+00 1.710e+00 2.870e+00 4.070e+02]\n",
      " [1.000e+00 1.196e+01 1.090e+00 2.300e+00 2.100e+01 1.010e+02 3.380e+00\n",
      "  2.140e+00 1.300e-01 1.650e+00 3.210e+00 9.900e-01 3.130e+00 8.860e+02]\n",
      " [1.000e+00 1.237e+01 1.130e+00 2.160e+00 1.900e+01 8.700e+01 3.500e+00\n",
      "  3.100e+00 1.900e-01 1.870e+00 4.450e+00 1.220e+00 2.870e+00 4.200e+02]]\n",
      "First 5 rows of Y_trainA:\n",
      " [0 1 0 0 0]\n",
      "Initial Weights:\n",
      " [[0. 0. 0.]\n",
      " [0. 0. 0.]\n",
      " [0. 0. 0.]\n",
      " [0. 0. 0.]\n",
      " [0. 0. 0.]\n",
      " [0. 0. 0.]\n",
      " [0. 0. 0.]\n",
      " [0. 0. 0.]\n",
      " [0. 0. 0.]\n",
      " [0. 0. 0.]\n",
      " [0. 0. 0.]\n",
      " [0. 0. 0.]\n",
      " [0. 0. 0.]\n",
      " [0. 0. 0.]\n",
      " [0. 0. 0.]]\n"
     ]
    }
   ],
   "execution_count": 17
  },
  {
   "cell_type": "markdown",
   "source": "# Fitting ",
   "metadata": {},
   "id": "11442fa6808e4c9e"
  },
  {
   "cell_type": "code",
   "source": "weights, costs = gradient_descent(X_train_normalized, Y_trainA, Y_trainB, Y_trainC, alpha=0.01, iterations=1000)",
   "metadata": {
    "execution": {
     "iopub.status.busy": "2024-06-08T08:09:02.886764Z",
     "iopub.execute_input": "2024-06-08T08:09:02.887132Z",
     "iopub.status.idle": "2024-06-08T08:09:03.091882Z",
     "shell.execute_reply.started": "2024-06-08T08:09:02.887105Z",
     "shell.execute_reply": "2024-06-08T08:09:03.090592Z"
    },
    "trusted": true,
    "ExecuteTime": {
     "end_time": "2024-06-09T17:26:23.129784Z",
     "start_time": "2024-06-09T17:26:22.992079Z"
    }
   },
   "id": "1bc085023d9ff658",
   "outputs": [
    {
     "name": "stdout",
     "output_type": "stream",
     "text": [
      "Iteration 0, Cost: 0.6931471805599454\n",
      "Activations (first 5):\n",
      " [[0.5 0.5 0.5]\n",
      " [0.5 0.5 0.5]\n",
      " [0.5 0.5 0.5]\n",
      " [0.5 0.5 0.5]\n",
      " [0.5 0.5 0.5]]\n",
      "Weights (first 5):\n",
      " [[0. 0. 0.]\n",
      " [0. 0. 0.]\n",
      " [0. 0. 0.]\n",
      " [0. 0. 0.]\n",
      " [0. 0. 0.]]\n",
      "Iteration 100, Cost: 0.389857113757091\n",
      "Activations (first 5):\n",
      " [[0.35136023 0.56578755 0.47460313]\n",
      " [0.7331524  0.35786467 0.29687488]\n",
      " [0.26683454 0.87946801 0.19128812]\n",
      " [0.56009489 0.6310771  0.22670867]\n",
      " [0.52637982 0.70533091 0.19333046]]\n",
      "Weights (first 5):\n",
      " [[-0.13352464 -0.08305444 -0.22646182]\n",
      " [ 0.          0.          0.        ]\n",
      " [ 0.22095643 -0.2675133   0.04962886]\n",
      " [-0.03855817 -0.08387791  0.12360033]\n",
      " [ 0.07875721 -0.09953156  0.02144231]]\n",
      "Iteration 200, Cost: 0.2888353940766781\n",
      "Activations (first 5):\n",
      " [[0.26402298 0.60609129 0.44148228]\n",
      " [0.82106256 0.27148321 0.21420556]\n",
      " [0.14846414 0.96254906 0.083305  ]\n",
      " [0.54385287 0.70534718 0.13325967]\n",
      " [0.48276982 0.80730648 0.10038768]]\n",
      "Weights (first 5):\n",
      " [[-0.24023351 -0.14985084 -0.40492465]\n",
      " [ 0.          0.          0.        ]\n",
      " [ 0.35760111 -0.43686401  0.0936242 ]\n",
      " [-0.03511316 -0.14027661  0.18164785]\n",
      " [ 0.13008561 -0.16469896  0.03738465]]\n",
      "Iteration 300, Cost: 0.23600075233480725\n",
      "Activations (first 5):\n",
      " [[0.20605975 0.63358884 0.41215582]\n",
      " [0.86621537 0.21429388 0.1691024 ]\n",
      " [0.08913872 0.98455845 0.04230021]\n",
      " [0.5119635  0.75163246 0.0910703 ]\n",
      " [0.42935838 0.86259062 0.06260163]]\n",
      "Weights (first 5):\n",
      " [[-0.32862607 -0.20601026 -0.5513985 ]\n",
      " [ 0.          0.          0.        ]\n",
      " [ 0.45753674 -0.55820742  0.12864417]\n",
      " [-0.02118292 -0.18243455  0.2170924 ]\n",
      " [ 0.16995475 -0.21453716  0.04961351]]\n",
      "Iteration 400, Cost: 0.20252252259443407\n",
      "Activations (first 5):\n",
      " [[0.16526927 0.65377046 0.38772097]\n",
      " [0.89399894 0.17394704 0.14006976]\n",
      " [0.05737322 0.99235706 0.02417276]\n",
      " [0.47752616 0.78311764 0.06796188]\n",
      " [0.37880838 0.89593793 0.04346183]]\n",
      "Weights (first 5):\n",
      " [[-0.40383112 -0.25479243 -0.67557664]\n",
      " [ 0.          0.          0.        ]\n",
      " [ 0.53651677 -0.65218976  0.1563432 ]\n",
      " [-0.00400205 -0.21623996  0.24140978]\n",
      " [ 0.20374386 -0.25608045  0.05952948]]\n",
      "Iteration 500, Cost: 0.1790329962919092\n",
      "Activations (first 5):\n",
      " [[0.13547038 0.66933049 0.3675656 ]\n",
      " [0.9129894  0.14419689 0.11954357]\n",
      " [0.03908833 0.99573122 0.01507786]\n",
      " [0.44447497 0.8059625  0.05366121]\n",
      " [0.33425903 0.91777224 0.03231619]]\n",
      "Weights (first 5):\n",
      " [[-0.46904902 -0.29812195 -0.78331403]\n",
      " [ 0.          0.          0.        ]\n",
      " [ 0.60178758 -0.72866     0.17851383]\n",
      " [ 0.01402294 -0.2445875   0.25916403]\n",
      " [ 0.23380298 -0.29237655  0.06796095]]\n",
      "Iteration 600, Cost: 0.16147337878097753\n",
      "Activations (first 5):\n",
      " [[0.11308    0.68175916 0.35087705]\n",
      " [0.92686056 0.12153323 0.10415989]\n",
      " [0.0278721  0.99740511 0.01004388]\n",
      " [0.41407227 0.82334491 0.04405139]\n",
      " [0.29603514 0.93296727 0.02518721]]\n",
      "Weights (first 5):\n",
      " [[-0.52642328 -0.33722877 -0.87841962]\n",
      " [ 0.          0.          0.        ]\n",
      " [ 0.65736496 -0.79299691  0.19654639]\n",
      " [ 0.03193319 -0.26907781  0.27263704]\n",
      " [ 0.26131922 -0.32497901  0.07539807]]\n",
      "Iteration 700, Cost: 0.1477626275206988\n",
      "Activations (first 5):\n",
      " [[0.09586616 0.69195569 0.33694538]\n",
      " [0.93745642 0.10382511 0.09216747]\n",
      " [0.02061604 0.99832113 0.00703668]\n",
      " [0.38660576 0.83705534 0.03720218]\n",
      " [0.26354962 0.9440417  0.02031225]]\n",
      "Weights (first 5):\n",
      " [[-0.57747085 -0.37295217 -0.96351762]\n",
      " [ 0.          0.          0.        ]\n",
      " [ 0.70573169 -0.84844121  0.21145551]\n",
      " [ 0.04932337 -0.29068244  0.28313365]\n",
      " [ 0.28695225 -0.35478508  0.08213951]]\n",
      "Iteration 800, Cost: 0.1367098981764985\n",
      "Activations (first 5):\n",
      " [[0.08237192 0.70049873 0.3252054 ]\n",
      " [0.94581242 0.08970349 0.0825491 ]\n",
      " [0.01571031 0.99886062 0.00512885]\n",
      " [0.36197873 0.84817647 0.03210089]\n",
      " [0.23598029 0.95240787 0.01680862]]\n",
      "Weights (first 5):\n",
      " [[-0.62331036 -0.40589397 -1.04049479]\n",
      " [ 0.          0.          0.        ]\n",
      " [ 0.74853588 -0.8970916   0.22397476]\n",
      " [ 0.06602971 -0.31003507  0.29146758]\n",
      " [ 0.31109741 -0.38236427  0.08837379]]\n",
      "Iteration 900, Cost: 0.12757889828945523\n",
      "Activations (first 5):\n",
      " [[0.07161276 0.70777949 0.31521898]\n",
      " [0.95256017 0.07824982 0.07466571]\n",
      " [0.01226961 0.99919696 0.00385863]\n",
      " [0.33994914 0.85740101 0.02816969]\n",
      " [0.2125204  0.95891126 0.01419211]]\n",
      "Weights (first 5):\n",
      " [[-0.66479331 -0.43650253 -1.11075345]\n",
      " [ 0.          0.          0.        ]\n",
      " [ 0.78692788 -0.94038363  0.23463808]\n",
      " [ 0.08200163 -0.32757282  0.29817792]\n",
      " [ 0.33400786 -0.40810514  0.09422415]]\n"
     ]
    }
   ],
   "execution_count": 19
  },
  {
   "cell_type": "markdown",
   "source": "# Printing the Final Weights",
   "metadata": {},
   "id": "1ed2c06973c082d5"
  },
  {
   "cell_type": "code",
   "source": "print(\"Final Weights:\\n\", weights)",
   "metadata": {
    "execution": {
     "iopub.status.busy": "2024-06-08T08:09:11.129652Z",
     "iopub.execute_input": "2024-06-08T08:09:11.130060Z",
     "iopub.status.idle": "2024-06-08T08:09:11.136885Z",
     "shell.execute_reply.started": "2024-06-08T08:09:11.130025Z",
     "shell.execute_reply": "2024-06-08T08:09:11.135500Z"
    },
    "trusted": true,
    "ExecuteTime": {
     "end_time": "2024-06-09T17:26:23.137021Z",
     "start_time": "2024-06-09T17:26:23.131800Z"
    }
   },
   "id": "1d2ce491b75a2ea1",
   "outputs": [
    {
     "name": "stdout",
     "output_type": "stream",
     "text": [
      "Final Weights:\n",
      " [[-0.70258426 -0.465122   -1.17536401]\n",
      " [ 0.          0.          0.        ]\n",
      " [ 0.82174155 -0.97934218  0.24383894]\n",
      " [ 0.097243   -0.34361101  0.3036381 ]\n",
      " [ 0.35585592 -0.43228805  0.09977393]\n",
      " [-0.71824907  0.44333027  0.16844797]\n",
      " [ 0.19071325 -0.24686923  0.04915746]\n",
      " [ 0.27827467  0.03658493 -0.30812001]\n",
      " [ 0.47349162  0.13893607 -0.60155223]\n",
      " [-0.19689616  0.11906776  0.04889855]\n",
      " [-0.03371914  0.16401468 -0.16060843]\n",
      " [ 0.13967362 -0.88665313  0.82529252]\n",
      " [ 0.12527013  0.55127569 -0.70241527]\n",
      " [ 0.44857159  0.19141805 -0.6470667 ]\n",
      " [ 1.04023981 -0.94993817 -0.02927843]]\n"
     ]
    }
   ],
   "execution_count": 20
  },
  {
   "cell_type": "markdown",
   "source": "__Validate Predictions__",
   "metadata": {},
   "id": "1e2e5623c9f543c6"
  },
  {
   "cell_type": "code",
   "source": "pred_val = predict(X_val_normalized, weights)\nprint(\"Predictions (first 10):\", pred_val[:10])\nprint(\"True Labels (first 10):\", y[trn_test_split:][:10])",
   "metadata": {
    "execution": {
     "iopub.status.busy": "2024-06-08T08:09:12.777511Z",
     "iopub.execute_input": "2024-06-08T08:09:12.777940Z",
     "iopub.status.idle": "2024-06-08T08:09:12.785895Z",
     "shell.execute_reply.started": "2024-06-08T08:09:12.777908Z",
     "shell.execute_reply": "2024-06-08T08:09:12.784306Z"
    },
    "trusted": true,
    "ExecuteTime": {
     "end_time": "2024-06-09T17:26:23.152685Z",
     "start_time": "2024-06-09T17:26:23.139100Z"
    }
   },
   "id": "a0ea82cad378d5ac",
   "outputs": [
    {
     "name": "stdout",
     "output_type": "stream",
     "text": [
      "Predictions (first 10): [2 1 1 0 1 0 2 1 1 0]\n",
      "True Labels (first 10): ['C' 'B' 'B' 'A' 'B' 'A' 'C' 'B' 'B' 'A']\n"
     ]
    }
   ],
   "execution_count": 21
  },
  {
   "cell_type": "code",
   "source": "acc_val = accuracy(pred_val, y[trn_test_split:])\nprint(f'Accuracy on validation set: {acc_val:.2f}%')",
   "metadata": {
    "execution": {
     "iopub.status.busy": "2024-06-08T08:09:14.423778Z",
     "iopub.execute_input": "2024-06-08T08:09:14.424178Z",
     "iopub.status.idle": "2024-06-08T08:09:14.431348Z",
     "shell.execute_reply.started": "2024-06-08T08:09:14.424146Z",
     "shell.execute_reply": "2024-06-08T08:09:14.429888Z"
    },
    "trusted": true,
    "ExecuteTime": {
     "end_time": "2024-06-09T17:26:23.161022Z",
     "start_time": "2024-06-09T17:26:23.154705Z"
    }
   },
   "id": "983d533eb5908da9",
   "outputs": [
    {
     "name": "stdout",
     "output_type": "stream",
     "text": [
      "Accuracy on validation set: 100.00%\n"
     ]
    }
   ],
   "execution_count": 22
  },
  {
   "cell_type": "markdown",
   "source": "# Plotting The Cost Function",
   "metadata": {},
   "id": "abc1459e6d71ae2c"
  },
  {
   "cell_type": "code",
   "source": "plt.plot(costs)\nplt.xlabel('Iterations')\nplt.ylabel('Cost')\nplt.title('Cost Function Over Iterations')\nplt.show()",
   "metadata": {
    "execution": {
     "iopub.status.busy": "2024-06-08T08:09:15.846270Z",
     "iopub.execute_input": "2024-06-08T08:09:15.846720Z",
     "iopub.status.idle": "2024-06-08T08:09:16.173045Z",
     "shell.execute_reply.started": "2024-06-08T08:09:15.846686Z",
     "shell.execute_reply": "2024-06-08T08:09:16.171935Z"
    },
    "trusted": true,
    "ExecuteTime": {
     "end_time": "2024-06-09T17:26:23.387617Z",
     "start_time": "2024-06-09T17:26:23.162048Z"
    }
   },
   "id": "5350dff368582587",
   "outputs": [
    {
     "data": {
      "text/plain": [
       "<Figure size 640x480 with 1 Axes>"
      ],
      "image/png": "[encoded data removed]"
     },
     "metadata": {},
     "output_type": "display_data"
    }
   ],
   "execution_count": 23
  }
 ]
}
