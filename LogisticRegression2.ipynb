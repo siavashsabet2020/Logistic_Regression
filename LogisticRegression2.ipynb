{
 "cells": [
  {
   "cell_type": "code",
   "id": "initial_id",
   "metadata": {
    "collapsed": true,
    "ExecuteTime": {
     "end_time": "2024-06-09T19:50:24.899354Z",
     "start_time": "2024-06-09T19:50:24.103686Z"
    }
   },
   "source": [
    "import pandas as pd\n",
    "import numpy as np\n",
    "import matplotlib.pyplot as plt"
   ],
   "outputs": [],
   "execution_count": 1
  },
  {
   "metadata": {
    "ExecuteTime": {
     "end_time": "2024-06-09T19:50:25.562514Z",
     "start_time": "2024-06-09T19:50:25.515562Z"
    }
   },
   "cell_type": "code",
   "source": [
    "data = pd.read_csv('LogisticRegressionDataset.csv')\n",
    "df = pd.DataFrame(data)\n",
    "df"
   ],
   "id": "de28faa4dfbca389",
   "outputs": [
    {
     "data": {
      "text/plain": [
       "     14.23  1.71  2.43  15.6  127   2.8  3.06  0.28  2.29   5.64  ...  \\\n",
       "0    13.20  1.78  2.14  11.2  100  2.65  2.76  0.26  1.28   4.38  ...   \n",
       "1    13.16  2.36  2.67  18.6  101  2.80  3.24  0.30  2.81   5.68  ...   \n",
       "2    14.37  1.95  2.50  16.8  113  3.85  3.49  0.24  2.18   7.80  ...   \n",
       "3    13.24  2.59  2.87  21.0  118  2.80  2.69  0.39  1.82   4.32  ...   \n",
       "4    14.20  1.76  2.45  15.2  112  3.27  3.39  0.34  1.97   6.75  ...   \n",
       "..     ...   ...   ...   ...  ...   ...   ...   ...   ...    ...  ...   \n",
       "172  13.71  5.65  2.45  20.5   95  1.68  0.61  0.52  1.06   7.70  ...   \n",
       "173  13.40  3.91  2.48  23.0  102  1.80  0.75  0.43  1.41   7.30  ...   \n",
       "174  13.27  4.28  2.26  20.0  120  1.59  0.69  0.43  1.35  10.20  ...   \n",
       "175  13.17  2.59  2.37  20.0  120  1.65  0.68  0.53  1.46   9.30  ...   \n",
       "176  14.13  4.10  2.74  24.5   96  2.05  0.76  0.56  1.35   9.20  ...   \n",
       "\n",
       "     Unnamed: 22  Unnamed: 23  Unnamed: 24 Unnamed: 25  Unnamed: 26  \\\n",
       "0            NaN          NaN          NaN         NaN          NaN   \n",
       "1            NaN          NaN          NaN         NaN          NaN   \n",
       "2            NaN          NaN          NaN         NaN          NaN   \n",
       "3            NaN          NaN          NaN         NaN          NaN   \n",
       "4            NaN          NaN          NaN         NaN          NaN   \n",
       "..           ...          ...          ...         ...          ...   \n",
       "172          NaN          NaN          NaN         NaN          NaN   \n",
       "173          NaN          NaN          NaN         NaN          NaN   \n",
       "174          NaN          NaN          NaN         NaN          NaN   \n",
       "175          NaN          NaN          NaN         NaN          NaN   \n",
       "176          NaN          NaN          NaN         NaN          NaN   \n",
       "\n",
       "     Unnamed: 27  Unnamed: 28  Unnamed: 29  Unnamed: 30  Unnamed: 31  \n",
       "0            NaN          NaN          NaN          NaN          NaN  \n",
       "1            NaN          NaN          NaN          NaN          NaN  \n",
       "2            NaN          NaN          NaN          NaN          NaN  \n",
       "3            NaN          NaN          NaN          NaN          NaN  \n",
       "4            NaN          NaN          NaN          NaN          NaN  \n",
       "..           ...          ...          ...          ...          ...  \n",
       "172          NaN          NaN          NaN          NaN          NaN  \n",
       "173          NaN          NaN          NaN          NaN          NaN  \n",
       "174          NaN          NaN          NaN          NaN          NaN  \n",
       "175          NaN          NaN          NaN          NaN          NaN  \n",
       "176          NaN          NaN          NaN          NaN          NaN  \n",
       "\n",
       "[177 rows x 32 columns]"
      ],
      "text/html": [
       "<div>\n",
       "<style scoped>\n",
       "    .dataframe tbody tr th:only-of-type {\n",
       "        vertical-align: middle;\n",
       "    }\n",
       "\n",
       "    .dataframe tbody tr th {\n",
       "        vertical-align: top;\n",
       "    }\n",
       "\n",
       "    .dataframe thead th {\n",
       "        text-align: right;\n",
       "    }\n",
       "</style>\n",
       "<table border=\"1\" class=\"dataframe\">\n",
       "  <thead>\n",
       "    <tr style=\"text-align: right;\">\n",
       "      <th></th>\n",
       "      <th>14.23</th>\n",
       "      <th>1.71</th>\n",
       "      <th>2.43</th>\n",
       "      <th>15.6</th>\n",
       "      <th>127</th>\n",
       "      <th>2.8</th>\n",
       "      <th>3.06</th>\n",
       "      <th>0.28</th>\n",
       "      <th>2.29</th>\n",
       "      <th>5.64</th>\n",
       "      <th>...</th>\n",
       "      <th>Unnamed: 22</th>\n",
       "      <th>Unnamed: 23</th>\n",
       "      <th>Unnamed: 24</th>\n",
       "      <th>Unnamed: 25</th>\n",
       "      <th>Unnamed: 26</th>\n",
       "      <th>Unnamed: 27</th>\n",
       "      <th>Unnamed: 28</th>\n",
       "      <th>Unnamed: 29</th>\n",
       "      <th>Unnamed: 30</th>\n",
       "      <th>Unnamed: 31</th>\n",
       "    </tr>\n",
       "  </thead>\n",
       "  <tbody>\n",
       "    <tr>\n",
       "      <th>0</th>\n",
       "      <td>13.20</td>\n",
       "      <td>1.78</td>\n",
       "      <td>2.14</td>\n",
       "      <td>11.2</td>\n",
       "      <td>100</td>\n",
       "      <td>2.65</td>\n",
       "      <td>2.76</td>\n",
       "      <td>0.26</td>\n",
       "      <td>1.28</td>\n",
       "      <td>4.38</td>\n",
       "      <td>...</td>\n",
       "      <td>NaN</td>\n",
       "      <td>NaN</td>\n",
       "      <td>NaN</td>\n",
       "      <td>NaN</td>\n",
       "      <td>NaN</td>\n",
       "      <td>NaN</td>\n",
       "      <td>NaN</td>\n",
       "      <td>NaN</td>\n",
       "      <td>NaN</td>\n",
       "      <td>NaN</td>\n",
       "    </tr>\n",
       "    <tr>\n",
       "      <th>1</th>\n",
       "      <td>13.16</td>\n",
       "      <td>2.36</td>\n",
       "      <td>2.67</td>\n",
       "      <td>18.6</td>\n",
       "      <td>101</td>\n",
       "      <td>2.80</td>\n",
       "      <td>3.24</td>\n",
       "      <td>0.30</td>\n",
       "      <td>2.81</td>\n",
       "      <td>5.68</td>\n",
       "      <td>...</td>\n",
       "      <td>NaN</td>\n",
       "      <td>NaN</td>\n",
       "      <td>NaN</td>\n",
       "      <td>NaN</td>\n",
       "      <td>NaN</td>\n",
       "      <td>NaN</td>\n",
       "      <td>NaN</td>\n",
       "      <td>NaN</td>\n",
       "      <td>NaN</td>\n",
       "      <td>NaN</td>\n",
       "    </tr>\n",
       "    <tr>\n",
       "      <th>2</th>\n",
       "      <td>14.37</td>\n",
       "      <td>1.95</td>\n",
       "      <td>2.50</td>\n",
       "      <td>16.8</td>\n",
       "      <td>113</td>\n",
       "      <td>3.85</td>\n",
       "      <td>3.49</td>\n",
       "      <td>0.24</td>\n",
       "      <td>2.18</td>\n",
       "      <td>7.80</td>\n",
       "      <td>...</td>\n",
       "      <td>NaN</td>\n",
       "      <td>NaN</td>\n",
       "      <td>NaN</td>\n",
       "      <td>NaN</td>\n",
       "      <td>NaN</td>\n",
       "      <td>NaN</td>\n",
       "      <td>NaN</td>\n",
       "      <td>NaN</td>\n",
       "      <td>NaN</td>\n",
       "      <td>NaN</td>\n",
       "    </tr>\n",
       "    <tr>\n",
       "      <th>3</th>\n",
       "      <td>13.24</td>\n",
       "      <td>2.59</td>\n",
       "      <td>2.87</td>\n",
       "      <td>21.0</td>\n",
       "      <td>118</td>\n",
       "      <td>2.80</td>\n",
       "      <td>2.69</td>\n",
       "      <td>0.39</td>\n",
       "      <td>1.82</td>\n",
       "      <td>4.32</td>\n",
       "      <td>...</td>\n",
       "      <td>NaN</td>\n",
       "      <td>NaN</td>\n",
       "      <td>NaN</td>\n",
       "      <td>NaN</td>\n",
       "      <td>NaN</td>\n",
       "      <td>NaN</td>\n",
       "      <td>NaN</td>\n",
       "      <td>NaN</td>\n",
       "      <td>NaN</td>\n",
       "      <td>NaN</td>\n",
       "    </tr>\n",
       "    <tr>\n",
       "      <th>4</th>\n",
       "      <td>14.20</td>\n",
       "      <td>1.76</td>\n",
       "      <td>2.45</td>\n",
       "      <td>15.2</td>\n",
       "      <td>112</td>\n",
       "      <td>3.27</td>\n",
       "      <td>3.39</td>\n",
       "      <td>0.34</td>\n",
       "      <td>1.97</td>\n",
       "      <td>6.75</td>\n",
       "      <td>...</td>\n",
       "      <td>NaN</td>\n",
       "      <td>NaN</td>\n",
       "      <td>NaN</td>\n",
       "      <td>NaN</td>\n",
       "      <td>NaN</td>\n",
       "      <td>NaN</td>\n",
       "      <td>NaN</td>\n",
       "      <td>NaN</td>\n",
       "      <td>NaN</td>\n",
       "      <td>NaN</td>\n",
       "    </tr>\n",
       "    <tr>\n",
       "      <th>...</th>\n",
       "      <td>...</td>\n",
       "      <td>...</td>\n",
       "      <td>...</td>\n",
       "      <td>...</td>\n",
       "      <td>...</td>\n",
       "      <td>...</td>\n",
       "      <td>...</td>\n",
       "      <td>...</td>\n",
       "      <td>...</td>\n",
       "      <td>...</td>\n",
       "      <td>...</td>\n",
       "      <td>...</td>\n",
       "      <td>...</td>\n",
       "      <td>...</td>\n",
       "      <td>...</td>\n",
       "      <td>...</td>\n",
       "      <td>...</td>\n",
       "      <td>...</td>\n",
       "      <td>...</td>\n",
       "      <td>...</td>\n",
       "      <td>...</td>\n",
       "    </tr>\n",
       "    <tr>\n",
       "      <th>172</th>\n",
       "      <td>13.71</td>\n",
       "      <td>5.65</td>\n",
       "      <td>2.45</td>\n",
       "      <td>20.5</td>\n",
       "      <td>95</td>\n",
       "      <td>1.68</td>\n",
       "      <td>0.61</td>\n",
       "      <td>0.52</td>\n",
       "      <td>1.06</td>\n",
       "      <td>7.70</td>\n",
       "      <td>...</td>\n",
       "      <td>NaN</td>\n",
       "      <td>NaN</td>\n",
       "      <td>NaN</td>\n",
       "      <td>NaN</td>\n",
       "      <td>NaN</td>\n",
       "      <td>NaN</td>\n",
       "      <td>NaN</td>\n",
       "      <td>NaN</td>\n",
       "      <td>NaN</td>\n",
       "      <td>NaN</td>\n",
       "    </tr>\n",
       "    <tr>\n",
       "      <th>173</th>\n",
       "      <td>13.40</td>\n",
       "      <td>3.91</td>\n",
       "      <td>2.48</td>\n",
       "      <td>23.0</td>\n",
       "      <td>102</td>\n",
       "      <td>1.80</td>\n",
       "      <td>0.75</td>\n",
       "      <td>0.43</td>\n",
       "      <td>1.41</td>\n",
       "      <td>7.30</td>\n",
       "      <td>...</td>\n",
       "      <td>NaN</td>\n",
       "      <td>NaN</td>\n",
       "      <td>NaN</td>\n",
       "      <td>NaN</td>\n",
       "      <td>NaN</td>\n",
       "      <td>NaN</td>\n",
       "      <td>NaN</td>\n",
       "      <td>NaN</td>\n",
       "      <td>NaN</td>\n",
       "      <td>NaN</td>\n",
       "    </tr>\n",
       "    <tr>\n",
       "      <th>174</th>\n",
       "      <td>13.27</td>\n",
       "      <td>4.28</td>\n",
       "      <td>2.26</td>\n",
       "      <td>20.0</td>\n",
       "      <td>120</td>\n",
       "      <td>1.59</td>\n",
       "      <td>0.69</td>\n",
       "      <td>0.43</td>\n",
       "      <td>1.35</td>\n",
       "      <td>10.20</td>\n",
       "      <td>...</td>\n",
       "      <td>NaN</td>\n",
       "      <td>NaN</td>\n",
       "      <td>NaN</td>\n",
       "      <td>NaN</td>\n",
       "      <td>NaN</td>\n",
       "      <td>NaN</td>\n",
       "      <td>NaN</td>\n",
       "      <td>NaN</td>\n",
       "      <td>NaN</td>\n",
       "      <td>NaN</td>\n",
       "    </tr>\n",
       "    <tr>\n",
       "      <th>175</th>\n",
       "      <td>13.17</td>\n",
       "      <td>2.59</td>\n",
       "      <td>2.37</td>\n",
       "      <td>20.0</td>\n",
       "      <td>120</td>\n",
       "      <td>1.65</td>\n",
       "      <td>0.68</td>\n",
       "      <td>0.53</td>\n",
       "      <td>1.46</td>\n",
       "      <td>9.30</td>\n",
       "      <td>...</td>\n",
       "      <td>NaN</td>\n",
       "      <td>NaN</td>\n",
       "      <td>NaN</td>\n",
       "      <td>NaN</td>\n",
       "      <td>NaN</td>\n",
       "      <td>NaN</td>\n",
       "      <td>NaN</td>\n",
       "      <td>NaN</td>\n",
       "      <td>NaN</td>\n",
       "      <td>NaN</td>\n",
       "    </tr>\n",
       "    <tr>\n",
       "      <th>176</th>\n",
       "      <td>14.13</td>\n",
       "      <td>4.10</td>\n",
       "      <td>2.74</td>\n",
       "      <td>24.5</td>\n",
       "      <td>96</td>\n",
       "      <td>2.05</td>\n",
       "      <td>0.76</td>\n",
       "      <td>0.56</td>\n",
       "      <td>1.35</td>\n",
       "      <td>9.20</td>\n",
       "      <td>...</td>\n",
       "      <td>NaN</td>\n",
       "      <td>NaN</td>\n",
       "      <td>NaN</td>\n",
       "      <td>NaN</td>\n",
       "      <td>NaN</td>\n",
       "      <td>NaN</td>\n",
       "      <td>NaN</td>\n",
       "      <td>NaN</td>\n",
       "      <td>NaN</td>\n",
       "      <td>NaN</td>\n",
       "    </tr>\n",
       "  </tbody>\n",
       "</table>\n",
       "<p>177 rows × 32 columns</p>\n",
       "</div>"
      ]
     },
     "execution_count": 2,
     "metadata": {},
     "output_type": "execute_result"
    }
   ],
   "execution_count": 2
  },
  {
   "metadata": {
    "ExecuteTime": {
     "end_time": "2024-06-09T19:52:09.801150Z",
     "start_time": "2024-06-09T19:52:09.784267Z"
    }
   },
   "cell_type": "code",
   "source": [
    "df.drop(['Unnamed: 14','Unnamed: 15','Unnamed: 16',\n",
    "'Unnamed: 17','Unnamed: 18','Unnamed: 19','Unnamed: 20','Unnamed: 21','Unnamed: 22','Unnamed: 23','Unnamed: 24','Unnamed: 25','Unnamed: 26','Unnamed: 27','Unnamed: 28','Unnamed: 29','Unnamed: 30', 'Unnamed: 31'], axis=1, inplace=True)"
   ],
   "id": "87f0ee27e1a52fff",
   "outputs": [],
   "execution_count": 3
  },
  {
   "metadata": {
    "ExecuteTime": {
     "end_time": "2024-06-09T19:52:12.604292Z",
     "start_time": "2024-06-09T19:52:12.588037Z"
    }
   },
   "cell_type": "code",
   "source": "df",
   "id": "d3a457b4c9615b4d",
   "outputs": [
    {
     "data": {
      "text/plain": [
       "     14.23  1.71  2.43  15.6  127   2.8  3.06  0.28  2.29   5.64  1.04  3.92  \\\n",
       "0    13.20  1.78  2.14  11.2  100  2.65  2.76  0.26  1.28   4.38  1.05  3.40   \n",
       "1    13.16  2.36  2.67  18.6  101  2.80  3.24  0.30  2.81   5.68  1.03  3.17   \n",
       "2    14.37  1.95  2.50  16.8  113  3.85  3.49  0.24  2.18   7.80  0.86  3.45   \n",
       "3    13.24  2.59  2.87  21.0  118  2.80  2.69  0.39  1.82   4.32  1.04  2.93   \n",
       "4    14.20  1.76  2.45  15.2  112  3.27  3.39  0.34  1.97   6.75  1.05  2.85   \n",
       "..     ...   ...   ...   ...  ...   ...   ...   ...   ...    ...   ...   ...   \n",
       "172  13.71  5.65  2.45  20.5   95  1.68  0.61  0.52  1.06   7.70  0.64  1.74   \n",
       "173  13.40  3.91  2.48  23.0  102  1.80  0.75  0.43  1.41   7.30  0.70  1.56   \n",
       "174  13.27  4.28  2.26  20.0  120  1.59  0.69  0.43  1.35  10.20  0.59  1.56   \n",
       "175  13.17  2.59  2.37  20.0  120  1.65  0.68  0.53  1.46   9.30  0.60  1.62   \n",
       "176  14.13  4.10  2.74  24.5   96  2.05  0.76  0.56  1.35   9.20  0.61  1.60   \n",
       "\n",
       "     1065  A  \n",
       "0    1050  A  \n",
       "1    1185  A  \n",
       "2    1480  A  \n",
       "3     735  A  \n",
       "4    1450  A  \n",
       "..    ... ..  \n",
       "172   740  C  \n",
       "173   750  C  \n",
       "174   835  C  \n",
       "175   840  C  \n",
       "176   560  C  \n",
       "\n",
       "[177 rows x 14 columns]"
      ],
      "text/html": [
       "<div>\n",
       "<style scoped>\n",
       "    .dataframe tbody tr th:only-of-type {\n",
       "        vertical-align: middle;\n",
       "    }\n",
       "\n",
       "    .dataframe tbody tr th {\n",
       "        vertical-align: top;\n",
       "    }\n",
       "\n",
       "    .dataframe thead th {\n",
       "        text-align: right;\n",
       "    }\n",
       "</style>\n",
       "<table border=\"1\" class=\"dataframe\">\n",
       "  <thead>\n",
       "    <tr style=\"text-align: right;\">\n",
       "      <th></th>\n",
       "      <th>14.23</th>\n",
       "      <th>1.71</th>\n",
       "      <th>2.43</th>\n",
       "      <th>15.6</th>\n",
       "      <th>127</th>\n",
       "      <th>2.8</th>\n",
       "      <th>3.06</th>\n",
       "      <th>0.28</th>\n",
       "      <th>2.29</th>\n",
       "      <th>5.64</th>\n",
       "      <th>1.04</th>\n",
       "      <th>3.92</th>\n",
       "      <th>1065</th>\n",
       "      <th>A</th>\n",
       "    </tr>\n",
       "  </thead>\n",
       "  <tbody>\n",
       "    <tr>\n",
       "      <th>0</th>\n",
       "      <td>13.20</td>\n",
       "      <td>1.78</td>\n",
       "      <td>2.14</td>\n",
       "      <td>11.2</td>\n",
       "      <td>100</td>\n",
       "      <td>2.65</td>\n",
       "      <td>2.76</td>\n",
       "      <td>0.26</td>\n",
       "      <td>1.28</td>\n",
       "      <td>4.38</td>\n",
       "      <td>1.05</td>\n",
       "      <td>3.40</td>\n",
       "      <td>1050</td>\n",
       "      <td>A</td>\n",
       "    </tr>\n",
       "    <tr>\n",
       "      <th>1</th>\n",
       "      <td>13.16</td>\n",
       "      <td>2.36</td>\n",
       "      <td>2.67</td>\n",
       "      <td>18.6</td>\n",
       "      <td>101</td>\n",
       "      <td>2.80</td>\n",
       "      <td>3.24</td>\n",
       "      <td>0.30</td>\n",
       "      <td>2.81</td>\n",
       "      <td>5.68</td>\n",
       "      <td>1.03</td>\n",
       "      <td>3.17</td>\n",
       "      <td>1185</td>\n",
       "      <td>A</td>\n",
       "    </tr>\n",
       "    <tr>\n",
       "      <th>2</th>\n",
       "      <td>14.37</td>\n",
       "      <td>1.95</td>\n",
       "      <td>2.50</td>\n",
       "      <td>16.8</td>\n",
       "      <td>113</td>\n",
       "      <td>3.85</td>\n",
       "      <td>3.49</td>\n",
       "      <td>0.24</td>\n",
       "      <td>2.18</td>\n",
       "      <td>7.80</td>\n",
       "      <td>0.86</td>\n",
       "      <td>3.45</td>\n",
       "      <td>1480</td>\n",
       "      <td>A</td>\n",
       "    </tr>\n",
       "    <tr>\n",
       "      <th>3</th>\n",
       "      <td>13.24</td>\n",
       "      <td>2.59</td>\n",
       "      <td>2.87</td>\n",
       "      <td>21.0</td>\n",
       "      <td>118</td>\n",
       "      <td>2.80</td>\n",
       "      <td>2.69</td>\n",
       "      <td>0.39</td>\n",
       "      <td>1.82</td>\n",
       "      <td>4.32</td>\n",
       "      <td>1.04</td>\n",
       "      <td>2.93</td>\n",
       "      <td>735</td>\n",
       "      <td>A</td>\n",
       "    </tr>\n",
       "    <tr>\n",
       "      <th>4</th>\n",
       "      <td>14.20</td>\n",
       "      <td>1.76</td>\n",
       "      <td>2.45</td>\n",
       "      <td>15.2</td>\n",
       "      <td>112</td>\n",
       "      <td>3.27</td>\n",
       "      <td>3.39</td>\n",
       "      <td>0.34</td>\n",
       "      <td>1.97</td>\n",
       "      <td>6.75</td>\n",
       "      <td>1.05</td>\n",
       "      <td>2.85</td>\n",
       "      <td>1450</td>\n",
       "      <td>A</td>\n",
       "    </tr>\n",
       "    <tr>\n",
       "      <th>...</th>\n",
       "      <td>...</td>\n",
       "      <td>...</td>\n",
       "      <td>...</td>\n",
       "      <td>...</td>\n",
       "      <td>...</td>\n",
       "      <td>...</td>\n",
       "      <td>...</td>\n",
       "      <td>...</td>\n",
       "      <td>...</td>\n",
       "      <td>...</td>\n",
       "      <td>...</td>\n",
       "      <td>...</td>\n",
       "      <td>...</td>\n",
       "      <td>...</td>\n",
       "    </tr>\n",
       "    <tr>\n",
       "      <th>172</th>\n",
       "      <td>13.71</td>\n",
       "      <td>5.65</td>\n",
       "      <td>2.45</td>\n",
       "      <td>20.5</td>\n",
       "      <td>95</td>\n",
       "      <td>1.68</td>\n",
       "      <td>0.61</td>\n",
       "      <td>0.52</td>\n",
       "      <td>1.06</td>\n",
       "      <td>7.70</td>\n",
       "      <td>0.64</td>\n",
       "      <td>1.74</td>\n",
       "      <td>740</td>\n",
       "      <td>C</td>\n",
       "    </tr>\n",
       "    <tr>\n",
       "      <th>173</th>\n",
       "      <td>13.40</td>\n",
       "      <td>3.91</td>\n",
       "      <td>2.48</td>\n",
       "      <td>23.0</td>\n",
       "      <td>102</td>\n",
       "      <td>1.80</td>\n",
       "      <td>0.75</td>\n",
       "      <td>0.43</td>\n",
       "      <td>1.41</td>\n",
       "      <td>7.30</td>\n",
       "      <td>0.70</td>\n",
       "      <td>1.56</td>\n",
       "      <td>750</td>\n",
       "      <td>C</td>\n",
       "    </tr>\n",
       "    <tr>\n",
       "      <th>174</th>\n",
       "      <td>13.27</td>\n",
       "      <td>4.28</td>\n",
       "      <td>2.26</td>\n",
       "      <td>20.0</td>\n",
       "      <td>120</td>\n",
       "      <td>1.59</td>\n",
       "      <td>0.69</td>\n",
       "      <td>0.43</td>\n",
       "      <td>1.35</td>\n",
       "      <td>10.20</td>\n",
       "      <td>0.59</td>\n",
       "      <td>1.56</td>\n",
       "      <td>835</td>\n",
       "      <td>C</td>\n",
       "    </tr>\n",
       "    <tr>\n",
       "      <th>175</th>\n",
       "      <td>13.17</td>\n",
       "      <td>2.59</td>\n",
       "      <td>2.37</td>\n",
       "      <td>20.0</td>\n",
       "      <td>120</td>\n",
       "      <td>1.65</td>\n",
       "      <td>0.68</td>\n",
       "      <td>0.53</td>\n",
       "      <td>1.46</td>\n",
       "      <td>9.30</td>\n",
       "      <td>0.60</td>\n",
       "      <td>1.62</td>\n",
       "      <td>840</td>\n",
       "      <td>C</td>\n",
       "    </tr>\n",
       "    <tr>\n",
       "      <th>176</th>\n",
       "      <td>14.13</td>\n",
       "      <td>4.10</td>\n",
       "      <td>2.74</td>\n",
       "      <td>24.5</td>\n",
       "      <td>96</td>\n",
       "      <td>2.05</td>\n",
       "      <td>0.76</td>\n",
       "      <td>0.56</td>\n",
       "      <td>1.35</td>\n",
       "      <td>9.20</td>\n",
       "      <td>0.61</td>\n",
       "      <td>1.60</td>\n",
       "      <td>560</td>\n",
       "      <td>C</td>\n",
       "    </tr>\n",
       "  </tbody>\n",
       "</table>\n",
       "<p>177 rows × 14 columns</p>\n",
       "</div>"
      ]
     },
     "execution_count": 4,
     "metadata": {},
     "output_type": "execute_result"
    }
   ],
   "execution_count": 4
  },
  {
   "metadata": {},
   "cell_type": "markdown",
   "source": "Selecting out x_inputs and y_outputs of our data ( datas and labels )",
   "id": "d177a728fcc34a41"
  },
  {
   "metadata": {
    "ExecuteTime": {
     "end_time": "2024-06-09T19:53:54.412995Z",
     "start_time": "2024-06-09T19:53:54.406627Z"
    }
   },
   "cell_type": "code",
   "source": "x_inputs = df.iloc[:, 0: -1].values",
   "id": "febeacb38be44534",
   "outputs": [],
   "execution_count": 5
  },
  {
   "metadata": {
    "ExecuteTime": {
     "end_time": "2024-06-09T19:54:00.002549Z",
     "start_time": "2024-06-09T19:53:59.998840Z"
    }
   },
   "cell_type": "code",
   "source": "y_outputs = df.iloc[:, -1].values",
   "id": "6335ac4a15cfd28d",
   "outputs": [],
   "execution_count": 6
  },
  {
   "metadata": {
    "ExecuteTime": {
     "end_time": "2024-06-09T19:55:03.331604Z",
     "start_time": "2024-06-09T19:55:03.326854Z"
    }
   },
   "cell_type": "code",
   "source": "y_outputs",
   "id": "159ccd90c33496a1",
   "outputs": [
    {
     "data": {
      "text/plain": [
       "array(['A', 'A', 'A', 'A', 'A', 'A', 'A', 'A', 'A', 'A', 'A', 'A', 'A',\n",
       "       'A', 'A', 'A', 'A', 'A', 'A', 'A', 'A', 'A', 'A', 'A', 'A', 'A',\n",
       "       'A', 'A', 'A', 'A', 'A', 'A', 'A', 'A', 'A', 'A', 'A', 'A', 'A',\n",
       "       'A', 'A', 'A', 'A', 'A', 'A', 'A', 'A', 'A', 'A', 'A', 'A', 'A',\n",
       "       'A', 'A', 'A', 'A', 'A', 'A', 'B', 'B', 'B', 'B', 'B', 'B', 'B',\n",
       "       'B', 'B', 'B', 'B', 'B', 'B', 'B', 'B', 'B', 'B', 'B', 'B', 'B',\n",
       "       'B', 'B', 'B', 'B', 'B', 'B', 'B', 'B', 'B', 'B', 'B', 'B', 'B',\n",
       "       'B', 'B', 'B', 'B', 'B', 'B', 'B', 'B', 'B', 'B', 'B', 'B', 'B',\n",
       "       'B', 'B', 'B', 'B', 'B', 'B', 'B', 'B', 'B', 'B', 'B', 'B', 'B',\n",
       "       'B', 'B', 'B', 'B', 'B', 'B', 'B', 'B', 'B', 'B', 'B', 'B', 'C',\n",
       "       'C', 'C', 'C', 'C', 'C', 'C', 'C', 'C', 'C', 'C', 'C', 'C', 'C',\n",
       "       'C', 'C', 'C', 'C', 'C', 'C', 'C', 'C', 'C', 'C', 'C', 'C', 'C',\n",
       "       'C', 'C', 'C', 'C', 'C', 'C', 'C', 'C', 'C', 'C', 'C', 'C', 'C',\n",
       "       'C', 'C', 'C', 'C', 'C', 'C', 'C', 'C'], dtype=object)"
      ]
     },
     "execution_count": 9,
     "metadata": {},
     "output_type": "execute_result"
    }
   ],
   "execution_count": 9
  },
  {
   "metadata": {},
   "cell_type": "markdown",
   "source": "One-hot encoding",
   "id": "999a637d4be4d9fa"
  },
  {
   "metadata": {
    "ExecuteTime": {
     "end_time": "2024-06-09T19:55:24.990565Z",
     "start_time": "2024-06-09T19:55:24.986436Z"
    }
   },
   "cell_type": "code",
   "source": [
    "y_A = (y_outputs == 'A').astype(int)\n",
    "y_B = (y_outputs == 'B').astype(int)\n",
    "y_C = (y_outputs == 'C').astype(int)"
   ],
   "id": "252853fba76431ab",
   "outputs": [],
   "execution_count": 10
  },
  {
   "metadata": {
    "ExecuteTime": {
     "end_time": "2024-06-09T19:57:58.406562Z",
     "start_time": "2024-06-09T19:57:58.400913Z"
    }
   },
   "cell_type": "code",
   "source": "y_A",
   "id": "a8c546cd5bf7519d",
   "outputs": [
    {
     "data": {
      "text/plain": [
       "array([1, 1, 1, 1, 1, 1, 1, 1, 1, 1, 1, 1, 1, 1, 1, 1, 1, 1, 1, 1, 1, 1,\n",
       "       1, 1, 1, 1, 1, 1, 1, 1, 1, 1, 1, 1, 1, 1, 1, 1, 1, 1, 1, 1, 1, 1,\n",
       "       1, 1, 1, 1, 1, 1, 1, 1, 1, 1, 1, 1, 1, 1, 0, 0, 0, 0, 0, 0, 0, 0,\n",
       "       0, 0, 0, 0, 0, 0, 0, 0, 0, 0, 0, 0, 0, 0, 0, 0, 0, 0, 0, 0, 0, 0,\n",
       "       0, 0, 0, 0, 0, 0, 0, 0, 0, 0, 0, 0, 0, 0, 0, 0, 0, 0, 0, 0, 0, 0,\n",
       "       0, 0, 0, 0, 0, 0, 0, 0, 0, 0, 0, 0, 0, 0, 0, 0, 0, 0, 0, 0, 0, 0,\n",
       "       0, 0, 0, 0, 0, 0, 0, 0, 0, 0, 0, 0, 0, 0, 0, 0, 0, 0, 0, 0, 0, 0,\n",
       "       0, 0, 0, 0, 0, 0, 0, 0, 0, 0, 0, 0, 0, 0, 0, 0, 0, 0, 0, 0, 0, 0,\n",
       "       0])"
      ]
     },
     "execution_count": 15,
     "metadata": {},
     "output_type": "execute_result"
    }
   ],
   "execution_count": 15
  },
  {
   "metadata": {},
   "cell_type": "markdown",
   "source": "Adding Bias Terms to our dataset",
   "id": "d1666e78f55fadc5"
  },
  {
   "metadata": {
    "ExecuteTime": {
     "end_time": "2024-06-09T20:00:09.476829Z",
     "start_time": "2024-06-09T20:00:09.467411Z"
    }
   },
   "cell_type": "code",
   "source": [
    "newt = x_inputs.shape[0], 1\n",
    "print(newt)\n",
    "x_inputs"
   ],
   "id": "4edcc548e8abe07b",
   "outputs": [
    {
     "name": "stdout",
     "output_type": "stream",
     "text": [
      "(177, 1)\n"
     ]
    },
    {
     "data": {
      "text/plain": [
       "array([[1.320e+01, 1.780e+00, 2.140e+00, ..., 1.050e+00, 3.400e+00,\n",
       "        1.050e+03],\n",
       "       [1.316e+01, 2.360e+00, 2.670e+00, ..., 1.030e+00, 3.170e+00,\n",
       "        1.185e+03],\n",
       "       [1.437e+01, 1.950e+00, 2.500e+00, ..., 8.600e-01, 3.450e+00,\n",
       "        1.480e+03],\n",
       "       ...,\n",
       "       [1.327e+01, 4.280e+00, 2.260e+00, ..., 5.900e-01, 1.560e+00,\n",
       "        8.350e+02],\n",
       "       [1.317e+01, 2.590e+00, 2.370e+00, ..., 6.000e-01, 1.620e+00,\n",
       "        8.400e+02],\n",
       "       [1.413e+01, 4.100e+00, 2.740e+00, ..., 6.100e-01, 1.600e+00,\n",
       "        5.600e+02]])"
      ]
     },
     "execution_count": 20,
     "metadata": {},
     "output_type": "execute_result"
    }
   ],
   "execution_count": 20
  },
  {
   "metadata": {
    "ExecuteTime": {
     "end_time": "2024-06-09T20:01:29.983865Z",
     "start_time": "2024-06-09T20:01:29.980048Z"
    }
   },
   "cell_type": "code",
   "source": "x_inputs = np.hstack([np.ones(newt), x_inputs])",
   "id": "72d9768e75b5d2f1",
   "outputs": [],
   "execution_count": 25
  },
  {
   "metadata": {
    "ExecuteTime": {
     "end_time": "2024-06-09T20:01:32.478076Z",
     "start_time": "2024-06-09T20:01:32.468190Z"
    }
   },
   "cell_type": "code",
   "source": "x_inputs",
   "id": "9b5e5ef72488f14a",
   "outputs": [
    {
     "data": {
      "text/plain": [
       "array([[1.000e+00, 1.320e+01, 1.780e+00, ..., 1.050e+00, 3.400e+00,\n",
       "        1.050e+03],\n",
       "       [1.000e+00, 1.316e+01, 2.360e+00, ..., 1.030e+00, 3.170e+00,\n",
       "        1.185e+03],\n",
       "       [1.000e+00, 1.437e+01, 1.950e+00, ..., 8.600e-01, 3.450e+00,\n",
       "        1.480e+03],\n",
       "       ...,\n",
       "       [1.000e+00, 1.327e+01, 4.280e+00, ..., 5.900e-01, 1.560e+00,\n",
       "        8.350e+02],\n",
       "       [1.000e+00, 1.317e+01, 2.590e+00, ..., 6.000e-01, 1.620e+00,\n",
       "        8.400e+02],\n",
       "       [1.000e+00, 1.413e+01, 4.100e+00, ..., 6.100e-01, 1.600e+00,\n",
       "        5.600e+02]])"
      ]
     },
     "execution_count": 26,
     "metadata": {},
     "output_type": "execute_result"
    }
   ],
   "execution_count": 26
  },
  {
   "metadata": {},
   "cell_type": "markdown",
   "source": "Shuffling out data",
   "id": "bf966f7a94446af8"
  },
  {
   "metadata": {
    "ExecuteTime": {
     "end_time": "2024-06-09T20:13:19.902186Z",
     "start_time": "2024-06-09T20:13:19.896282Z"
    }
   },
   "cell_type": "code",
   "source": [
    "x_inputs_sh = []\n",
    "y_outputs_sh = []\n",
    "data_len = len(df)\n",
    "per_list = np.random.permutation(data_len)\n",
    "\n",
    "for i in range(data_len):\n",
    "    per_idx = per_list[i]\n",
    "    tmp_input = x_inputs[per_idx]\n",
    "    tmp_output = y_outputs[per_idx]\n",
    "    \n",
    "    x_inputs_sh.append(tmp_input)\n",
    "    y_outputs_sh.append(tmp_output)\n",
    "\n",
    "# turning x_inputs and y_outputs into numpy array if needed\n",
    "x_inputs_sh = np.array(x_inputs_sh)\n",
    "y_outputs_sh = np.array(y_outputs_sh)"
   ],
   "id": "4fc3503c845a1722",
   "outputs": [],
   "execution_count": 28
  },
  {
   "metadata": {
    "ExecuteTime": {
     "end_time": "2024-06-09T20:13:21.071704Z",
     "start_time": "2024-06-09T20:13:21.067112Z"
    }
   },
   "cell_type": "code",
   "source": "len(x_inputs_sh)",
   "id": "a284900700fbeede",
   "outputs": [
    {
     "data": {
      "text/plain": [
       "177"
      ]
     },
     "execution_count": 29,
     "metadata": {},
     "output_type": "execute_result"
    }
   ],
   "execution_count": 29
  },
  {
   "metadata": {},
   "cell_type": "markdown",
   "source": "Splitting Our Test and Train Data",
   "id": "46a0f9bc7b05bf16"
  },
  {
   "metadata": {
    "ExecuteTime": {
     "end_time": "2024-06-09T20:14:57.641292Z",
     "start_time": "2024-06-09T20:14:57.636172Z"
    }
   },
   "cell_type": "code",
   "source": [
    "trn_test_split = int(0.70 * len(x_inputs_sh))\n",
    "x_train = x_inputs_sh[0:trn_test_split, :]\n",
    "y_train = y_outputs_sh[0: trn_test_split]\n",
    "x_test = x_inputs_sh[trn_test_split:, :]\n",
    "y_test = y_outputs_sh[trn_test_split:, ]"
   ],
   "id": "a0813e0e5a9bfc62",
   "outputs": [],
   "execution_count": 31
  },
  {
   "metadata": {},
   "cell_type": "markdown",
   "source": "one-hot encoding train test split",
   "id": "c6f572b54adab2ca"
  },
  {
   "metadata": {
    "ExecuteTime": {
     "end_time": "2024-06-09T20:15:08.350826Z",
     "start_time": "2024-06-09T20:15:08.346718Z"
    }
   },
   "cell_type": "code",
   "source": [
    "y_train_A = (y_train == 'A').astype(int)\n",
    "y_train_B = (y_train == 'B').astype(int)\n",
    "y_train_C = (y_train == 'C').astype(int)"
   ],
   "id": "309cd98b104f7fce",
   "outputs": [],
   "execution_count": 32
  },
  {
   "metadata": {},
   "cell_type": "markdown",
   "source": "Normalizing Our data",
   "id": "99ed754e5de7b84b"
  },
  {
   "metadata": {
    "ExecuteTime": {
     "end_time": "2024-06-09T20:17:20.447478Z",
     "start_time": "2024-06-09T20:17:20.442830Z"
    }
   },
   "cell_type": "code",
   "source": [
    "mu = x_train.mean(axis=0)\n",
    "sigma = x_train.std(axis=0)\n",
    "\n",
    "epsilon = 1e-5\n",
    "\n",
    "x_train_normalized = (x_train - mu) / (sigma + epsilon)\n",
    "x_test_normalized = (x_test - mu) / (sigma + epsilon)"
   ],
   "id": "fa1b93a089d8bdfa",
   "outputs": [],
   "execution_count": 34
  },
  {
   "metadata": {
    "ExecuteTime": {
     "end_time": "2024-06-09T20:17:31.040498Z",
     "start_time": "2024-06-09T20:17:31.034792Z"
    }
   },
   "cell_type": "code",
   "source": "x_train_normalized",
   "id": "1f16cd9d0c2cce22",
   "outputs": [
    {
     "data": {
      "text/plain": [
       "array([[ 0.        , -0.66312818, -0.66843473, ...,  0.45860168,\n",
       "         0.52859829, -1.26322478],\n",
       "       [ 0.        ,  0.71586285,  0.70246172, ..., -1.51488076,\n",
       "        -1.72039522, -0.74946792],\n",
       "       [ 0.        ,  0.99676843, -0.83185285, ..., -0.25521112,\n",
       "         0.40666491,  1.852462  ],\n",
       "       ...,\n",
       "       [ 0.        ,  0.28173605,  1.11100702, ..., -1.47289177,\n",
       "        -1.20556538,  0.34433701],\n",
       "       [ 0.        , -1.76121362, -0.26896821, ..., -0.08725517,\n",
       "         1.51761351, -0.86547753],\n",
       "       [ 0.        , -1.11002342, -0.16910159, ..., -0.38117808,\n",
       "         0.96213921, -1.15384429]])"
      ]
     },
     "execution_count": 35,
     "metadata": {},
     "output_type": "execute_result"
    }
   ],
   "execution_count": 35
  },
  {
   "metadata": {},
   "cell_type": "markdown",
   "source": "Compute Cost and Gradient Descent Function",
   "id": "6b59bd61ae9cac72"
  },
  {
   "metadata": {
    "ExecuteTime": {
     "end_time": "2024-06-09T20:30:45.036019Z",
     "start_time": "2024-06-09T20:30:45.032231Z"
    }
   },
   "cell_type": "code",
   "source": [
    "def sigmoid(x):\n",
    "    return 1/(1+np.exp(-x))"
   ],
   "id": "5e0515ef512be88c",
   "outputs": [],
   "execution_count": 38
  },
  {
   "metadata": {
    "ExecuteTime": {
     "end_time": "2024-06-09T20:30:45.452759Z",
     "start_time": "2024-06-09T20:30:45.448730Z"
    }
   },
   "cell_type": "code",
   "source": [
    "def cost_function(theta, X, y):\n",
    "    m = len(y)\n",
    "    h = sigmoid(np.dot(X, theta))\n",
    "    cost = -1/m * (np.dot(y.T, np.log(h)) + np.dot((1 - y).T, np.log(1 - h)))\n",
    "    return cost.item()"
   ],
   "id": "1009bd0f371f156c",
   "outputs": [],
   "execution_count": 39
  },
  {
   "metadata": {
    "ExecuteTime": {
     "end_time": "2024-06-09T20:30:45.908042Z",
     "start_time": "2024-06-09T20:30:45.902817Z"
    }
   },
   "cell_type": "code",
   "source": "x_inputs.shape",
   "id": "3e0293f5edf78d09",
   "outputs": [
    {
     "data": {
      "text/plain": [
       "(177, 14)"
      ]
     },
     "execution_count": 40,
     "metadata": {},
     "output_type": "execute_result"
    }
   ],
   "execution_count": 40
  },
  {
   "metadata": {
    "ExecuteTime": {
     "end_time": "2024-06-09T20:30:47.015831Z",
     "start_time": "2024-06-09T20:30:47.006344Z"
    }
   },
   "cell_type": "code",
   "source": [
    "def gradient_descent(X, y_A, y_B, y_C, alpha=0.01, iterations=500):\n",
    "    m, n = X.shape\n",
    "    labels_count = 3\n",
    "    thetas = np.zeros((n, labels_count))\n",
    "    costs = []\n",
    "\n",
    "    for iteration in range(iterations):\n",
    "        acts = sigmoid(np.dot(X, thetas))\n",
    "        \n",
    "        cost_a = cost_function(thetas[:, 0], X, y_A)\n",
    "        cost_b = cost_function(thetas[:, 1], X, y_B)\n",
    "        cost_c = cost_function(thetas[:, 2], X, y_C)\n",
    "        cost_avg = (cost_a + cost_b + cost_c) / labels_count\n",
    "\n",
    "        costs.append(cost_avg)\n",
    "        \n",
    "        errors = acts - np.column_stack((y_A, y_B, y_C))\n",
    "        gradients = np.dot(X.T, errors) / m\n",
    "\n",
    "        # Update weights using gradient descent\n",
    "        thetas -= alpha * gradients\n",
    "    return thetas, costs"
   ],
   "id": "2e544ecc7d7a6f03",
   "outputs": [],
   "execution_count": 41
  },
  {
   "metadata": {},
   "cell_type": "markdown",
   "source": "",
   "id": "a90bf855d9f3ac87"
  },
  {
   "metadata": {},
   "cell_type": "markdown",
   "source": "Defining prediction and accuracy functions",
   "id": "ef8fd1fcb12f6f04"
  },
  {
   "metadata": {
    "ExecuteTime": {
     "end_time": "2024-06-09T20:30:48.607483Z",
     "start_time": "2024-06-09T20:30:48.601710Z"
    }
   },
   "cell_type": "code",
   "source": [
    "def pred(X, theta):\n",
    "    scores = np.dot(X, theta)\n",
    "    probabilities = sigmoid(scores)\n",
    "    predictions = np.argmax(probabilities, axis=1)\n",
    "    return predictions\n",
    "def return_acc(predictions, targets):\n",
    "    index_to_label = {\n",
    "        0: 'A',\n",
    "        1: 'B',\n",
    "        2: 'C',\n",
    "    }\n",
    "    predicted_labels = [index_to_label[prediction] for prediction in predictions]\n",
    "    correct_predictions = sum(1 for prediction, target in zip(predicted_labels, targets) if prediction == target)\n",
    "    accuracy_percentage = (correct_predictions / len(targets)) * 100\n",
    "    return accuracy_percentage"
   ],
   "id": "d736a9ab65e11323",
   "outputs": [],
   "execution_count": 42
  },
  {
   "metadata": {
    "ExecuteTime": {
     "end_time": "2024-06-09T20:34:35.178786Z",
     "start_time": "2024-06-09T20:34:35.160088Z"
    }
   },
   "cell_type": "code",
   "source": "thetas, costs = gradient_descent(x_train_normalized, y_train_A, y_train_B, y_train_C, alpha=0.01, iterations=200)",
   "id": "35f2d49555388976",
   "outputs": [],
   "execution_count": 70
  },
  {
   "metadata": {
    "ExecuteTime": {
     "end_time": "2024-06-09T20:34:35.655145Z",
     "start_time": "2024-06-09T20:34:35.649527Z"
    }
   },
   "cell_type": "code",
   "source": "thetas",
   "id": "f764ecaa56933ebe",
   "outputs": [
    {
     "data": {
      "text/plain": [
       "array([[ 0.        ,  0.        ,  0.        ],\n",
       "       [ 0.34043536, -0.46425753,  0.1441207 ],\n",
       "       [-0.03083418, -0.17068572,  0.2152775 ],\n",
       "       [ 0.12793298, -0.19941201,  0.07678397],\n",
       "       [-0.25269719,  0.09605068,  0.15455716],\n",
       "       [ 0.12771785, -0.1228587 , -0.00505835],\n",
       "       [ 0.2128595 ,  0.01028858, -0.22804044],\n",
       "       [ 0.25599837,  0.07462934, -0.33837377],\n",
       "       [-0.13051976, -0.01393979,  0.15249024],\n",
       "       [ 0.08260409,  0.10113987, -0.18940491],\n",
       "       [ 0.07237974, -0.38787679,  0.3425901 ],\n",
       "       [ 0.11142364,  0.22562662, -0.34874109],\n",
       "       [ 0.21619573,  0.12431025, -0.35475363],\n",
       "       [ 0.45214978, -0.36793101, -0.07013409]])"
      ]
     },
     "execution_count": 71,
     "metadata": {},
     "output_type": "execute_result"
    }
   ],
   "execution_count": 71
  },
  {
   "metadata": {
    "ExecuteTime": {
     "end_time": "2024-06-09T20:34:36.133235Z",
     "start_time": "2024-06-09T20:34:36.130119Z"
    }
   },
   "cell_type": "code",
   "source": "pred_val = pred(x_test_normalized, thetas)",
   "id": "234b42e97ba2dacc",
   "outputs": [],
   "execution_count": 72
  },
  {
   "metadata": {
    "ExecuteTime": {
     "end_time": "2024-06-09T20:34:36.657526Z",
     "start_time": "2024-06-09T20:34:36.652948Z"
    }
   },
   "cell_type": "code",
   "source": "pred_val",
   "id": "a80c942135f3fd35",
   "outputs": [
    {
     "data": {
      "text/plain": [
       "array([1, 0, 1, 0, 0, 1, 2, 0, 0, 0, 0, 2, 0, 2, 0, 0, 0, 1, 2, 1, 0, 0,\n",
       "       0, 0, 2, 2, 1, 0, 1, 1, 2, 1, 2, 1, 2, 2, 1, 0, 0, 2, 0, 1, 1, 1,\n",
       "       2, 1, 0, 0, 0, 0, 1, 1, 2, 1], dtype=int64)"
      ]
     },
     "execution_count": 73,
     "metadata": {},
     "output_type": "execute_result"
    }
   ],
   "execution_count": 73
  },
  {
   "metadata": {
    "ExecuteTime": {
     "end_time": "2024-06-09T20:34:37.216368Z",
     "start_time": "2024-06-09T20:34:37.211015Z"
    }
   },
   "cell_type": "code",
   "source": "y_outputs_sh # 1:B 0:A 2:C",
   "id": "30d1855796bf8c29",
   "outputs": [
    {
     "data": {
      "text/plain": [
       "array(['B', 'C', 'A', 'A', 'B', 'B', 'C', 'B', 'A', 'C', 'C', 'C', 'B',\n",
       "       'B', 'A', 'B', 'C', 'C', 'A', 'A', 'B', 'B', 'B', 'B', 'A', 'A',\n",
       "       'B', 'B', 'B', 'A', 'B', 'A', 'C', 'C', 'A', 'B', 'C', 'C', 'C',\n",
       "       'A', 'B', 'C', 'A', 'C', 'A', 'A', 'B', 'C', 'A', 'C', 'C', 'B',\n",
       "       'A', 'A', 'C', 'B', 'C', 'A', 'A', 'C', 'B', 'A', 'C', 'B', 'C',\n",
       "       'B', 'B', 'A', 'A', 'A', 'B', 'C', 'B', 'B', 'B', 'B', 'B', 'A',\n",
       "       'A', 'A', 'A', 'A', 'B', 'B', 'B', 'A', 'C', 'C', 'A', 'B', 'C',\n",
       "       'B', 'B', 'C', 'C', 'B', 'A', 'B', 'C', 'C', 'C', 'A', 'C', 'B',\n",
       "       'B', 'B', 'A', 'B', 'C', 'C', 'B', 'B', 'A', 'C', 'B', 'B', 'A',\n",
       "       'B', 'B', 'C', 'C', 'B', 'B', 'B', 'A', 'B', 'A', 'A', 'B', 'C',\n",
       "       'A', 'A', 'A', 'A', 'C', 'A', 'C', 'A', 'A', 'A', 'B', 'B', 'B',\n",
       "       'B', 'A', 'A', 'A', 'C', 'B', 'B', 'A', 'B', 'B', 'C', 'B', 'C',\n",
       "       'B', 'C', 'C', 'B', 'A', 'A', 'C', 'A', 'B', 'B', 'B', 'C', 'B',\n",
       "       'A', 'A', 'A', 'A', 'B', 'B', 'C', 'B'], dtype='<U1')"
      ]
     },
     "execution_count": 74,
     "metadata": {},
     "output_type": "execute_result"
    }
   ],
   "execution_count": 74
  },
  {
   "metadata": {
    "ExecuteTime": {
     "end_time": "2024-06-09T20:34:37.885579Z",
     "start_time": "2024-06-09T20:34:37.881981Z"
    }
   },
   "cell_type": "code",
   "source": "print(\"pred first 5\", pred_val[:5])",
   "id": "fdc399e15739f5a1",
   "outputs": [
    {
     "name": "stdout",
     "output_type": "stream",
     "text": [
      "pred first 5 [1 0 1 0 0]\n"
     ]
    }
   ],
   "execution_count": 75
  },
  {
   "metadata": {
    "ExecuteTime": {
     "end_time": "2024-06-09T20:34:38.668804Z",
     "start_time": "2024-06-09T20:34:38.665186Z"
    }
   },
   "cell_type": "code",
   "source": [
    "acc_true = return_acc(pred_val, y_outputs_sh[trn_test_split:])\n",
    "print(f'acc on test is: {acc_true:.2f}%')"
   ],
   "id": "a3bb81187247061",
   "outputs": [
    {
     "name": "stdout",
     "output_type": "stream",
     "text": [
      "acc on test is: 94.44%\n"
     ]
    }
   ],
   "execution_count": 76
  },
  {
   "metadata": {
    "ExecuteTime": {
     "end_time": "2024-06-09T20:36:49.734496Z",
     "start_time": "2024-06-09T20:36:49.549170Z"
    }
   },
   "cell_type": "code",
   "source": [
    "plt.plot(costs)\n",
    "plt.xlabel('Iterations')\n",
    "plt.ylabel('Cost')\n",
    "plt.title('Cost Function Over Iterations')\n",
    "plt.show()"
   ],
   "id": "fa565ba844778dac",
   "outputs": [
    {
     "data": {
      "text/plain": [
       "<Figure size 640x480 with 1 Axes>"
      ],
      "image/png": "[encoded data removed]"
     },
     "metadata": {},
     "output_type": "display_data"
    }
   ],
   "execution_count": 77
  },
  {
   "metadata": {},
   "cell_type": "code",
   "outputs": [],
   "execution_count": null,
   "source": "",
   "id": "93cca3c77b79022f"
  }
 ],
 "metadata": {
  "kernelspec": {
   "display_name": "Python 3",
   "language": "python",
   "name": "python3"
  },
  "language_info": {
   "codemirror_mode": {
    "name": "ipython",
    "version": 2
   },
   "file_extension": ".py",
   "mimetype": "text/x-python",
   "name": "python",
   "nbconvert_exporter": "python",
   "pygments_lexer": "ipython2",
   "version": "2.7.6"
  }
 },
 "nbformat": 4,
 "nbformat_minor": 5
}
